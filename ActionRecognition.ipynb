{
 "cells": [
  {
   "cell_type": "markdown",
   "metadata": {},
   "source": [
    "# ACTION RECOGNITION"
   ]
  },
  {
   "cell_type": "markdown",
   "metadata": {},
   "source": [
    "By Rajat Jain"
   ]
  },
  {
   "cell_type": "code",
   "execution_count": null,
   "metadata": {
    "collapsed": false
   },
   "outputs": [],
   "source": [
    "from PIL import Image\n",
    "from skimage.feature import hog\n",
    "import glob\n",
    "import cv2\n",
    "from sklearn.svm import LinearSVC, SVC\n",
    "from sklearn.preprocessing import StandardScaler\n",
    "from skimage.feature import hog\n",
    "from sklearn.model_selection import train_test_split, GridSearchCV\n",
    "from sklearn.model_selection import LeaveOneOut\n",
    "import glob\n",
    "import os\n",
    "import numpy as np\n",
    "import time\n",
    "from keras.models import Sequential\n",
    "from keras.layers import Flatten,Dense,Lambda, Convolution2D, Cropping2D, Dropout\n",
    "from keras.layers.pooling import MaxPooling2D\n",
    "from keras.optimizers import Adam\n",
    "from sklearn.ensemble import RandomForestClassifier\n",
    "import warnings\n",
    "warnings.filterwarnings(\"ignore\")\n",
    "\n",
    "\n"
   ]
  },
  {
   "cell_type": "markdown",
   "metadata": {},
   "source": [
    "# Preprocessing the image"
   ]
  },
  {
   "cell_type": "markdown",
   "metadata": {},
   "source": [
    "Function to crop the image according to ground truth "
   ]
  },
  {
   "cell_type": "code",
   "execution_count": 37,
   "metadata": {
    "collapsed": true
   },
   "outputs": [],
   "source": [
    "def crop_image(imgpath,gt1,gt2,gt3,gt4):\n",
    "    imm = Image.open(imgpath, \"r\")\n",
    "    return imm.crop((int(gt1),int(gt2),int(gt1)+int(gt3),int(gt2)+int(gt4)))\n"
   ]
  },
  {
   "cell_type": "markdown",
   "metadata": {},
   "source": [
    "Reading ground truth file to get dimensions and labels"
   ]
  },
  {
   "cell_type": "code",
   "execution_count": 38,
   "metadata": {
    "collapsed": true
   },
   "outputs": [],
   "source": [
    "def read_gt(path):\n",
    "    file = open(path,\"r\")\n",
    "    return file.read().split()\n"
   ]
  },
  {
   "cell_type": "markdown",
   "metadata": {},
   "source": [
    "Cropping Image and getting labels. Creating new folder same as original but with cropped images and labels"
   ]
  },
  {
   "cell_type": "code",
   "execution_count": 39,
   "metadata": {
    "collapsed": true
   },
   "outputs": [],
   "source": [
    "\n",
    "path=os.getcwd()+\"/ucf_sports_actions/ucf action\"\n",
    "\n",
    "def files_cwd(dir):\n",
    "    r = []\n",
    "    for dirs in os.listdir(dir):\n",
    "        r.append(dirs)\n",
    "    return r\n"
   ]
  },
  {
   "cell_type": "code",
   "execution_count": 40,
   "metadata": {
    "collapsed": true
   },
   "outputs": [],
   "source": [
    "def makeFolders(path):\n",
    "    if not os.path.isdir(path):\n",
    "            os.makedirs(path)"
   ]
  },
  {
   "cell_type": "code",
   "execution_count": 41,
   "metadata": {
    "collapsed": true
   },
   "outputs": [],
   "source": [
    "\n",
    "def resizeImages(image,resX,resY):\n",
    "    return cv2.resize(image,(resX,resY))\n",
    "    \n",
    "    "
   ]
  },
  {
   "cell_type": "markdown",
   "metadata": {},
   "source": [
    "Getting all sports action in a list"
   ]
  },
  {
   "cell_type": "code",
   "execution_count": 42,
   "metadata": {
    "collapsed": false
   },
   "outputs": [
    {
     "name": "stdout",
     "output_type": "stream",
     "text": [
      "['Kicking-Front', 'Swing-SideAngle', 'Golf-Swing-Back', 'Run-Side', 'Golf-Swing-Front', 'Swing-Bench', 'Kicking-Side', 'Lifting', 'Diving-Side', 'Walk-Front', 'Riding-Horse', 'SkateBoarding-Front', 'Golf-Swing-Side']\n"
     ]
    }
   ],
   "source": [
    "actions=files_cwd(path)\n",
    "print (actions)"
   ]
  },
  {
   "cell_type": "markdown",
   "metadata": {},
   "source": [
    "Creating Dictionary of action"
   ]
  },
  {
   "cell_type": "code",
   "execution_count": 54,
   "metadata": {
    "collapsed": true
   },
   "outputs": [],
   "source": [
    "labels={'Swing-SideAngle':1,'Kicking-Front':0, 'Golf-Swing-Back':2, 'Run-Side':3, 'Golf-Swing-Front':4, 'Swing-Bench':5, 'Kicking-Side':6, 'Lifting':7, 'Diving-Side':8, 'Walk-Front':9, 'Riding-Horse':10, 'SkateBoarding-Front':11, 'Golf-Swing-Side':12\n",
    "       }\n",
    "\n"
   ]
  },
  {
   "cell_type": "markdown",
   "metadata": {},
   "source": [
    "Below code will extract all images -> Cropping all images according to GT -> Resize all images to 64*128 -> Putting it in jpeg folder\n",
    ">> If gt is not present and jpeg folder is present than only performing resizing "
   ]
  },
  {
   "cell_type": "code",
   "execution_count": null,
   "metadata": {
    "collapsed": true
   },
   "outputs": [],
   "source": [
    "for i in actions:\n",
    "    inActionPath=path+\"/\"+i # in action\n",
    "    folders_actions=files_cwd(inActionPath)\n",
    "    for j in folders_actions:\n",
    "        images_path=inActionPath+\"/\"+j #inside 001\n",
    "        #gt_path=inActionPath+\"/\"+j+\"/gt\" #inside gt\n",
    "        files=files_cwd(images_path)# getting all images\n",
    "        if \"jpeg\" not in files:\n",
    "            makeFolders(images_path+\"/jpeg\")\n",
    "            item=\".jpg\"\n",
    "            if any(item in s for s in files):\n",
    "                for f in files:\n",
    "                    if os.path.isdir(images_path+\"/gt\"):\n",
    "                        if f.endswith(\".jpg\"):\n",
    "                            image=images_path+\"/\"+f\n",
    "                            gt_path=images_path+\"/gt/\"+f.split(\".\")[0]+\".tif.txt\"\n",
    "                            readGt=read_gt(gt_path)\n",
    "                            croppedImage=crop_image(image,readGt[0],readGt[1],readGt[2],readGt[3])\n",
    "                            croppedImage.save(image)\n",
    "                            cvim=cv2.imread(image)\n",
    "                            reim=resizeImages(cvim,64,128)\n",
    "                            cv2.imwrite(images_path+\"/jpeg/\"+f, reim)\n",
    "                    else:\n",
    "                        print(\"Gt do not exist for this \"+images_path)\n",
    "                    \n",
    "            else:\n",
    "                print(\"Images not available in \"+images_path)\n",
    "        else:\n",
    "            jpegPath=images_path+\"/jpeg\"\n",
    "            jpgs=files_cwd(jpegPath)\n",
    "            for x in jpgs:\n",
    "                if \".jpg\" in x:\n",
    "                    im=cv2.imread(jpegPath+\"/\"+x)\n",
    "                    \n",
    "                    reim=resizeImages(im,64,128)\n",
    "                    cv2.imwrite(jpegPath+\"/\"+x, reim)\n",
    "                     \n",
    "        \n",
    "        "
   ]
  },
  {
   "cell_type": "markdown",
   "metadata": {},
   "source": [
    "For train_y and test_y value : Extracting sports from image path and getting its values from labels dictionary"
   ]
  },
  {
   "cell_type": "code",
   "execution_count": 55,
   "metadata": {
    "collapsed": true
   },
   "outputs": [],
   "source": [
    "def getY_train(im):\n",
    "    b=os.path.split(os.path.dirname(im))[-2]\n",
    "    c=os.path.dirname(b)\n",
    "    d=os.path.basename(c)\n",
    "    return labels[d]"
   ]
  },
  {
   "cell_type": "markdown",
   "metadata": {},
   "source": [
    "# Models - Classifiers"
   ]
  },
  {
   "cell_type": "markdown",
   "metadata": {},
   "source": [
    "SVM   :    First Normalizing train_x and test_x and later applying svm"
   ]
  },
  {
   "cell_type": "code",
   "execution_count": 120,
   "metadata": {
    "collapsed": false
   },
   "outputs": [],
   "source": [
    "from sklearn.metrics import classification_report\n",
    "def svmModel(train_x,test_x,train_y,test_y):\n",
    "        print(len(test_x))\n",
    "        print(len(train_x))\n",
    "        print(len(train_y))\n",
    "        print(len(test_y))\n",
    "\n",
    "        X = np.array(train_x).astype(np.float64)                        \n",
    "        X_scaler = StandardScaler().fit(X)\n",
    "        scaled_X = X_scaler.transform(X)\n",
    "        \n",
    "        test_X = np.array(test_x).astype(np.float64)                        \n",
    "        X_scaler_test = StandardScaler().fit(test_X)\n",
    "        scaled_X_test = X_scaler_test.transform(test_X)\n",
    "\n",
    "        rand_state = np.random.randint(0, 100)\n",
    "        X_train, X_test, y_train, y_test = scaled_X,scaled_X_test,train_y,test_y\n",
    "        \n",
    "        print('Feature vector length:', len(X_train[0]))\n",
    "\n",
    "        svc = LinearSVC()\n",
    "      \n",
    "        t=time.time()\n",
    "        svc.fit(X_train, y_train)\n",
    "        t2 = time.time()\n",
    "       \n",
    "        \n",
    "        accuracy=round(svc.score(X_test, y_test), 4)\n",
    "        print('Test Accuracy of SVC = ', accuracy)\n",
    "        \n",
    "        t=time.time()\n",
    "\n",
    "        n_predict = 10\n",
    "        print('My SVC predicts: ', svc.predict(X_test[0:n_predict]))\n",
    "        print('For these',n_predict, 'labels: ', y_test[0:n_predict])\n",
    "        t2 = time.time()\n",
    "        print(round(t2-t, 5), 'Seconds to predict', n_predict,'labels with SVC')\n",
    "        \n",
    "        y_pred = clf.predict(X_test)\n",
    "        sensitivity=classification_report(y_test, y_pred)\n",
    "        val_label=labels\n",
    "        val_label = {y: x for x, y in val_label.items()}\n",
    "\n",
    "        print(\"sensitivity for \",val_label[y_test[0]])\n",
    "        print(sensitivity)\n",
    "        return accuracy\n",
    "\n",
    "    "
   ]
  },
  {
   "cell_type": "markdown",
   "metadata": {},
   "source": [
    "Random Forest "
   ]
  },
  {
   "cell_type": "code",
   "execution_count": 121,
   "metadata": {
    "collapsed": true
   },
   "outputs": [],
   "source": [
    "def random_forest(X_train, X_test, y_train, y_test):\n",
    "    \n",
    "#     X = np.array(X_train).astype(np.float64)                        \n",
    "#     X_scaler = StandardScaler().fit(X)\n",
    "#     X_train = X_scaler.transform(X)\n",
    "    \n",
    "#     X = np.array(X_test).astype(np.float64)                        \n",
    "#     X_scaler = StandardScaler().fit(X)\n",
    "#     X_test = X_scaler.transform(X)\n",
    "\n",
    "    \n",
    "    clf = RandomForestClassifier(max_depth=7, random_state=0)\n",
    "    t=time.time()\n",
    "    clf.fit(X_train, y_train)\n",
    "    t2 = time.time()\n",
    "    print(round(t2-t, 2), 'Seconds to train random forest...')\n",
    "    accuracy = round(clf.score(X_test, y_test), 4)\n",
    "    print('Test Accuracy of Random Forest = ', accuracy)\n",
    "    y_pred = clf.predict(X_test)\n",
    "    sensitivity=classification_report(y_test, y_pred)\n",
    "    val_label=labels\n",
    "    val_label = {y: x for x, y in val_label.items()}\n",
    "\n",
    "    print(\"sensitivity for \",val_label[y_test[0]])\n",
    "    print(sensitivity)\n",
    "    return accuracy\n"
   ]
  },
  {
   "cell_type": "markdown",
   "metadata": {},
   "source": [
    "Keras Model"
   ]
  },
  {
   "cell_type": "code",
   "execution_count": 108,
   "metadata": {
    "collapsed": false
   },
   "outputs": [],
   "source": [
    "from keras.layers import Activation\n",
    "import keras.backend as K\n",
    "\n",
    "def get_categorical_accuracy_keras(y_true, y_pred):\n",
    "    return K.mean(K.equal(K.argmax(y_true, axis=1), K.argmax(y_pred, axis=1)))\n",
    "def kerasModel(train_x,test_x,train_y,test_y):\n",
    "        model = Sequential()\n",
    "        \n",
    "        model.add(Convolution2D(24, 5, 5,subsample=(2,2),activation=\"relu\",input_shape=(128,64,3)))\n",
    "        \n",
    "        model.add(Convolution2D(36, 5, 5,subsample=(2,2),activation=\"relu\"))\n",
    "        \n",
    "        model.add(Convolution2D(48, 5, 5,subsample=(2,2),activation=\"relu\"))\n",
    "        \n",
    "        model.add(Convolution2D(64, 3, 3,subsample=(2,2), activation=\"relu\"))\n",
    "               \n",
    "        model.add(Dropout(0.5))\n",
    "\n",
    "        model.add(Flatten())\n",
    "        model.add(Dense(64, activation=\"relu\"))\n",
    "\n",
    "        model.add(Dense(32, activation=\"relu\"))\n",
    "\n",
    "        model.add(Dense(1, activation=\"relu\"))\n",
    "        model.add(Activation('softmax'))\n",
    "        sgd = SGD(lr=0.01, decay=1e-6, momentum=0.9, nesterov=True)\n",
    "        model.compile(loss='mse',optimizer=sgd,metrics=['accuracy'])\n",
    "\n",
    "        model.fit(train_x, train_y,epochs=5)\n",
    "       \n",
    "        #model.compile(loss='mse', optimizer=Adam(lr=0.01, decay=1e-6),metrics=[get_categorical_accuracy_keras])\n",
    "\n",
    "        #model.fit(train_x,train_y, shuffle=True, nb_epoch=5)   \n",
    "\n",
    "        score = model.evaluate(test_x, test_y ,verbose=0)\n",
    "        \n",
    "        print(\"Accuracy: %.2f%%\" % (score[1]*100))\n",
    "        return score[1]*100\n"
   ]
  },
  {
   "cell_type": "markdown",
   "metadata": {
    "collapsed": true
   },
   "source": [
    "Extracting Features : This is for all sports actions\n",
    ">> 1. Hog Features\n",
    ">> 2. Spatial Features : Resizing Images : Segregate object with background\n",
    ">> 3. Hist Features in different channels"
   ]
  },
  {
   "cell_type": "code",
   "execution_count": 59,
   "metadata": {
    "collapsed": true
   },
   "outputs": [],
   "source": [
    "def extract_features(hog_feat=True,spatial_feat=True,hist_feat=True):\n",
    "    train_x=[]\n",
    "    train_y=[]\n",
    "    path=os.getcwd()+\"/ucf_sports_actions/ucf action\"\n",
    "   \n",
    "    for value,label in enumerate(labels):\n",
    "        images=glob.glob(path+\"/\"+label+\"/**/jpeg/*.jpg\")\n",
    "        \n",
    "        for im in images:\n",
    "            img=cv2.imread(im)\n",
    "            hog_feature=[]\n",
    "            feat_x=[]\n",
    "            if hog_feat==True:\n",
    "                for channel in range(img.shape[2]):\n",
    "                    hog_feature.append(hog(img[:,:,channel],orientations=9,pixels_per_cell=(8,8),cells_per_block=(2,2),transform_sqrt=True, visualise=False,feature_vector=True))\n",
    "\n",
    "                hog_feature = np.ravel(hog_feature)\n",
    "                feat_x.append(hog_feature.ravel())\n",
    "            \n",
    "            if spatial_feat == True:\n",
    "                spatial_features = cv2.resize(img, (32,32)).ravel() \n",
    "                feat_x.append(spatial_features)\n",
    "            if hist_feat == True:\n",
    "                \n",
    "                channel1_hist = np.histogram(img[:,:,0], bins=32, range=(0,256))\n",
    "                channel2_hist = np.histogram(img[:,:,1], bins=32, range=(0,256))\n",
    "                channel3_hist = np.histogram(img[:,:,2], bins=32, range=(0,256))\n",
    "               \n",
    "                hist_features = np.concatenate((channel1_hist[0], channel2_hist[0], channel3_hist[0]))\n",
    "                feat_x.append(hist_features)\n",
    "            train_x.append(np.concatenate(feat_x))\n",
    "            train_y.append(value)\n",
    "            \n",
    "    print(len(train_x))\n",
    "    print(len(train_y))\n",
    "    return train_x,train_y"
   ]
  },
  {
   "cell_type": "markdown",
   "metadata": {},
   "source": [
    "SVM : Train Test Split \n",
    ">>>In Below code, I am  doing train test split >>test split 20%"
   ]
  },
  {
   "cell_type": "code",
   "execution_count": 123,
   "metadata": {
    "collapsed": false
   },
   "outputs": [
    {
     "name": "stderr",
     "output_type": "stream",
     "text": [
      "/home/rajat/anaconda3/envs/carnd-term1/lib/python3.5/site-packages/skimage/feature/_hog.py:119: skimage_deprecation: Default value of `block_norm`==`L1` is deprecated and will be changed to `L2-Hys` in v0.15\n",
      "  'be changed to `L2-Hys` in v0.15', skimage_deprecation)\n"
     ]
    },
    {
     "name": "stdout",
     "output_type": "stream",
     "text": [
      "8488\n",
      "8488\n",
      "Feature vector length: 14508\n",
      "Test Accuracy of SVC =  0.987\n"
     ]
    }
   ],
   "source": [
    "train_x,train_y=extract_features(True,True,True)\n",
    "\n",
    "X = np.array(train_x).astype(np.float64)                        \n",
    "\n",
    "X_scaler = StandardScaler().fit(X)\n",
    "\n",
    "scaled_X = X_scaler.transform(X)\n",
    "\n",
    "rand_state = np.random.randint(0, 100)\n",
    "X_train, X_test, y_train, y_test = train_test_split(\n",
    "    scaled_X, train_y, test_size=0.2, random_state=rand_state)\n",
    "print('Feature vector length:', len(X_train[0]))\n",
    "svc = LinearSVC()\n",
    "svc.fit(X_train, y_train)\n",
    "print('Test Accuracy of SVC = ', round(svc.score(X_test, y_test), 4))\n"
   ]
  },
  {
   "cell_type": "markdown",
   "metadata": {},
   "source": [
    "# Leave One Out"
   ]
  },
  {
   "cell_type": "markdown",
   "metadata": {},
   "source": [
    "Extracting Features : This function is created for using in leave one out function (its same as above extract feature but in this we are passing images for which we want to extract features)\n",
    ">> 1. Hog Features\n",
    ">> 2. Spatial Features : Resizing Images : Segregate object with background\n",
    ">> 3. Hist Features in different channels"
   ]
  },
  {
   "cell_type": "code",
   "execution_count": 60,
   "metadata": {
    "collapsed": true
   },
   "outputs": [],
   "source": [
    "def extract_features_LeaveOneOut(images,hog_feat,spatial_feat,hist_feat):\n",
    "    train_x=[]\n",
    "    train_y=[]\n",
    "    path=os.getcwd()+\"/ucf_sports_actions/ucf action\"\n",
    "   \n",
    "    for im in images:\n",
    "        img=cv2.imread(im)\n",
    "        hog_feature=[]\n",
    "        feat_x=[]\n",
    "        \n",
    "        if hog_feat==True:\n",
    "            for channel in range(img.shape[2]):\n",
    "                hog_feature.append(hog(img[:,:,channel],orientations=9,pixels_per_cell=(8,8),cells_per_block=(2,2),transform_sqrt=True, visualise=False,feature_vector=True))\n",
    "\n",
    "            hog_feature = np.ravel(hog_feature)\n",
    "            feat_x.append(hog_feature)\n",
    "            \n",
    "        if spatial_feat == True:\n",
    "            spatial_features = cv2.resize(img, (32,32)).ravel() \n",
    "            feat_x.append(spatial_features)\n",
    "        if hist_feat == True:\n",
    "            \n",
    "            channel1_hist = np.histogram(img[:,:,0], bins=32, range=(0,256))\n",
    "            channel2_hist = np.histogram(img[:,:,1], bins=32, range=(0,256))\n",
    "            channel3_hist = np.histogram(img[:,:,2], bins=32, range=(0,256))\n",
    "            \n",
    "            hist_features = np.concatenate((channel1_hist[0], channel2_hist[0], channel3_hist[0]))\n",
    "            feat_x.append(hist_features)\n",
    "        \n",
    "        train_x.append(np.concatenate(feat_x))\n",
    "        \n",
    "        b=os.path.split(os.path.dirname(im))[-2]\n",
    "\n",
    "        c=os.path.dirname(b)\n",
    "        d=os.path.basename(c)\n",
    "        train_y.append(labels[d])\n",
    "               \n",
    "    print(len(train_x))\n",
    "    print(len(train_y))\n",
    "    return train_x,train_y\n",
    "            "
   ]
  },
  {
   "cell_type": "markdown",
   "metadata": {
    "collapsed": true
   },
   "source": [
    "Leave one out Function : \n",
    ">> Logic -> Reading one folder of sports action clases iteratively and putting it on test, rest on training.\n",
    ">>\n",
    ">> For SVM and Random Forest, I am extracting features and than sending it to svm or random forest\n",
    ">> For Keras Model , I am reading all images and passing it to model "
   ]
  },
  {
   "cell_type": "code",
   "execution_count": 61,
   "metadata": {
    "collapsed": true
   },
   "outputs": [],
   "source": [
    "def data_leave_one_out():\n",
    "    images_list=[]\n",
    "    index_list=[]\n",
    "    len_subfolders=[]\n",
    "    path=os.getcwd()+\"/ucf_sports_actions/ucf action\"\n",
    "    images=glob.glob(path+\"/**\"+\"/**/jpeg/*.jpg\")\n",
    "    for value,label in enumerate(labels):\n",
    "        actionPath=path+\"/\"+label\n",
    "        listdir=files_cwd(actionPath)\n",
    "        for ld in listdir:\n",
    "            test_x_img=glob.glob(path+\"/\"+label+\"/\"+ld+\"/jpeg/*.jpg\")\n",
    "            images_list+=test_x_img\n",
    "            index_list.append(len(test_x_img))\n",
    "        len_subfolders.append(len(listdir))\n",
    "    return images_list,index_list,len_subfolders"
   ]
  },
  {
   "cell_type": "code",
   "execution_count": 62,
   "metadata": {
    "collapsed": true
   },
   "outputs": [],
   "source": [
    "def keras_LOO():\n",
    "    path=os.getcwd()+\"/ucf_sports_actions/ucf action\"\n",
    "    images=glob.glob(path+\"/**\"+\"/**/jpeg/*.jpg\")\n",
    "    accDict={}\n",
    "    num_action_infolder={}\n",
    "    path=os.getcwd()+\"/ucf_sports_actions/ucf action\"\n",
    "    val_label=labels\n",
    "    val_label = {y: x for x, y in val_label.items()}\n",
    "\n",
    "    for i in labels.keys():\n",
    "        num_action_infolder[labels[i]]=len(files_cwd(path+\"/\"+i))       \n",
    "\n",
    "    for value,label in enumerate(labels):\n",
    "        actionPath=path+\"/\"+label\n",
    "        listdir=files_cwd(actionPath)\n",
    "        \n",
    "        for ld in listdir:\n",
    "            test_x_img=glob.glob(path+\"/\"+label+\"/\"+ld+\"/jpeg/*.jpg\")\n",
    "            if(len(test_x_img)==0):\n",
    "                continue\n",
    "            train_x_img=[]\n",
    "            print(\"Label Running >>\"+ label)\n",
    "            print(\"Folder Running >>\"+ ld)\n",
    "            for i in images:\n",
    "                if i not in test_x_img:\n",
    "                    train_x_img.append(i)\n",
    "            train_x=[]\n",
    "            train_y=[]\n",
    "            test_y=[]\n",
    "            test_x=[]\n",
    "            for x in train_x_img:\n",
    "                train_y.append(getY_train(x))\n",
    "            for y in test_x_img:\n",
    "                test_y.append(getY_train(y))\n",
    "            for i in train_x_img:\n",
    "                train_x.append(cv2.imread(i))\n",
    "            for j in test_x_img:\n",
    "                test_x.append(cv2.imread(j))\n",
    "            acc=kerasModel(np.array(train_x),np.array(test_x),np.array(train_y),np.array(test_y))\n",
    "            if test_y[0] not in accDict.keys():\n",
    "                \n",
    "                accDict[test_y[0]] = acc\n",
    "            else:\n",
    "                accDict[test_y[0]] += acc  \n",
    "    for i in accDict:\n",
    "        print(\"Accuracy of label \"+val_label[i]+\" is \")\n",
    "        print(accDict[i]/num_action_infolder[i])\n",
    "\n",
    "              \n",
    "            \n",
    "\n",
    "\n",
    "\n",
    "\n",
    "    \n"
   ]
  },
  {
   "cell_type": "markdown",
   "metadata": {},
   "source": [
    "Extracting Feature Separately and than using it in leave one out code"
   ]
  },
  {
   "cell_type": "code",
   "execution_count": 63,
   "metadata": {
    "collapsed": false
   },
   "outputs": [
    {
     "name": "stdout",
     "output_type": "stream",
     "text": [
      "Index list is \n",
      "150\n"
     ]
    },
    {
     "name": "stderr",
     "output_type": "stream",
     "text": [
      "/home/rajat/anaconda3/envs/carnd-term1/lib/python3.5/site-packages/skimage/feature/_hog.py:119: skimage_deprecation: Default value of `block_norm`==`L1` is deprecated and will be changed to `L2-Hys` in v0.15\n",
      "  'be changed to `L2-Hys` in v0.15', skimage_deprecation)\n"
     ]
    },
    {
     "name": "stdout",
     "output_type": "stream",
     "text": [
      "8488\n",
      "8488\n",
      "8488\n",
      "8488\n"
     ]
    }
   ],
   "source": [
    "images_list,index_list,len_subfolders=data_leave_one_out()\n",
    "print(\"Index list is \")\n",
    "print(len(index_list))\n",
    "feature_list,value_list=extract_features_LeaveOneOut(images_list,True,True,True)\n",
    "print(len(feature_list))\n",
    "print(len(value_list))     \n",
    "X = np.array(feature_list).astype(np.float64)                        \n",
    "X_scaler = StandardScaler().fit(X)\n",
    "features = X_scaler.transform(X)\n",
    "features=features.tolist()"
   ]
  },
  {
   "cell_type": "code",
   "execution_count": 119,
   "metadata": {
    "collapsed": true
   },
   "outputs": [],
   "source": [
    "def leave_one_out(model):\n",
    "    if model==\"keras\":\n",
    "        keras_LOO()\n",
    "    else:\n",
    "        \n",
    "        train_x=[]\n",
    "        train_y=[]\n",
    "        test_x=[]\n",
    "        test_y=[]\n",
    "        accDict={}\n",
    "        \n",
    "        num_action_infolder={}\n",
    "        path=os.getcwd()+\"/ucf_sports_actions/ucf action\"\n",
    "        val_label=labels\n",
    "        val_label = {y: x for x, y in val_label.items()}\n",
    "        \n",
    "        for i in labels.keys():\n",
    "            num_action_infolder[labels[i]]=len(files_cwd(path+\"/\"+i))       \n",
    "            \n",
    "        \n",
    "        \n",
    "        b=0\n",
    "        for j in range(150):#As there are 150 folders\n",
    "            \n",
    "            if(index_list[j]==0):\n",
    "                continue\n",
    "            \n",
    "            test_x=features[b:b+index_list[j]]#0-60 #60-120\n",
    "            \n",
    "            if len(test_x)==0:\n",
    "                continue\n",
    "            \n",
    "            test_y=value_list[b:b+index_list[j]]#0-60 #60-120\n",
    "            \n",
    "            train_x=features[:b]+features[b+index_list[j]:]#0+60-end 0-60 \n",
    "            \n",
    "            train_y=value_list[:b]+value_list[b+index_list[j]:]#0+60-end\n",
    "            \n",
    "            b+=index_list[j]#b=j\n",
    "            \n",
    "            if model==\"svm\":\n",
    "                acc=svmModel(train_x,test_x,train_y,test_y)    \n",
    "            elif model==\"random_forest\":\n",
    "                acc=random_forest(train_x,test_x,train_y,test_y)    \n",
    "            print(test_y[0])\n",
    "            if test_y[0] not in accDict.keys():\n",
    "                \n",
    "                accDict[test_y[0]] = acc\n",
    "                \n",
    "            else:\n",
    "                accDict[test_y[0]] += acc \n",
    "                \n",
    "                \n",
    "            \n",
    "        for i in accDict:\n",
    "            print(\"Accuracy of label \"+val_label[i]+\" is \")\n",
    "            print(accDict[i]/num_action_infolder[i])\n",
    "            \n",
    "    \n",
    "    \n",
    "    "
   ]
  },
  {
   "cell_type": "code",
   "execution_count": 122,
   "metadata": {
    "collapsed": false
   },
   "outputs": [
    {
     "name": "stdout",
     "output_type": "stream",
     "text": [
      "6.48 Seconds to train random forest...\n",
      "Test Accuracy of Random Forest =  0.9091\n"
     ]
    },
    {
     "name": "stderr",
     "output_type": "stream",
     "text": [
      "/home/rajat/.local/lib/python3.5/site-packages/sklearn/metrics/classification.py:1137: UndefinedMetricWarning: Recall and F-score are ill-defined and being set to 0.0 in labels with no true samples.\n",
      "  'recall', 'true', average, warn_for)\n"
     ]
    },
    {
     "name": "stdout",
     "output_type": "stream",
     "text": [
      "sensitivity for  Diving-Side\n",
      "             precision    recall  f1-score   support\n",
      "\n",
      "          1       0.00      0.00      0.00         0\n",
      "          5       0.00      0.00      0.00         0\n",
      "          8       1.00      0.91      0.95        55\n",
      "          9       0.00      0.00      0.00         0\n",
      "\n",
      "avg / total       1.00      0.91      0.95        55\n",
      "\n",
      "8\n",
      "6.72 Seconds to train random forest...\n",
      "Test Accuracy of Random Forest =  0.4545\n"
     ]
    },
    {
     "name": "stderr",
     "output_type": "stream",
     "text": [
      "/home/rajat/.local/lib/python3.5/site-packages/sklearn/metrics/classification.py:1137: UndefinedMetricWarning: Recall and F-score are ill-defined and being set to 0.0 in labels with no true samples.\n",
      "  'recall', 'true', average, warn_for)\n"
     ]
    },
    {
     "name": "stdout",
     "output_type": "stream",
     "text": [
      "sensitivity for  Diving-Side\n",
      "             precision    recall  f1-score   support\n",
      "\n",
      "          3       0.00      0.00      0.00         0\n",
      "          5       0.00      0.00      0.00         0\n",
      "          8       1.00      0.45      0.62        55\n",
      "          9       0.00      0.00      0.00         0\n",
      "         11       0.00      0.00      0.00         0\n",
      "\n",
      "avg / total       1.00      0.45      0.62        55\n",
      "\n",
      "8\n",
      "6.69 Seconds to train random forest...\n",
      "Test Accuracy of Random Forest =  0.7273\n"
     ]
    },
    {
     "name": "stderr",
     "output_type": "stream",
     "text": [
      "/home/rajat/.local/lib/python3.5/site-packages/sklearn/metrics/classification.py:1137: UndefinedMetricWarning: Recall and F-score are ill-defined and being set to 0.0 in labels with no true samples.\n",
      "  'recall', 'true', average, warn_for)\n"
     ]
    },
    {
     "name": "stdout",
     "output_type": "stream",
     "text": [
      "sensitivity for  Diving-Side\n",
      "             precision    recall  f1-score   support\n",
      "\n",
      "          1       0.00      0.00      0.00         0\n",
      "          4       0.00      0.00      0.00         0\n",
      "          5       0.00      0.00      0.00         0\n",
      "          8       1.00      0.73      0.84        55\n",
      "          9       0.00      0.00      0.00         0\n",
      "         10       0.00      0.00      0.00         0\n",
      "\n",
      "avg / total       1.00      0.73      0.84        55\n",
      "\n",
      "8\n",
      "6.56 Seconds to train random forest...\n",
      "Test Accuracy of Random Forest =  0.8\n"
     ]
    },
    {
     "name": "stderr",
     "output_type": "stream",
     "text": [
      "/home/rajat/.local/lib/python3.5/site-packages/sklearn/metrics/classification.py:1137: UndefinedMetricWarning: Recall and F-score are ill-defined and being set to 0.0 in labels with no true samples.\n",
      "  'recall', 'true', average, warn_for)\n"
     ]
    },
    {
     "name": "stdout",
     "output_type": "stream",
     "text": [
      "sensitivity for  Diving-Side\n",
      "             precision    recall  f1-score   support\n",
      "\n",
      "          1       0.00      0.00      0.00         0\n",
      "          3       0.00      0.00      0.00         0\n",
      "          5       0.00      0.00      0.00         0\n",
      "          8       1.00      0.80      0.89        55\n",
      "          9       0.00      0.00      0.00         0\n",
      "         10       0.00      0.00      0.00         0\n",
      "\n",
      "avg / total       1.00      0.80      0.89        55\n",
      "\n",
      "8\n",
      "6.53 Seconds to train random forest...\n",
      "Test Accuracy of Random Forest =  0.1273\n",
      "sensitivity for "
     ]
    },
    {
     "name": "stderr",
     "output_type": "stream",
     "text": [
      "/home/rajat/.local/lib/python3.5/site-packages/sklearn/metrics/classification.py:1137: UndefinedMetricWarning: Recall and F-score are ill-defined and being set to 0.0 in labels with no true samples.\n",
      "  'recall', 'true', average, warn_for)\n"
     ]
    },
    {
     "name": "stdout",
     "output_type": "stream",
     "text": [
      " Diving-Side\n",
      "             precision    recall  f1-score   support\n",
      "\n",
      "          1       0.00      0.00      0.00         0\n",
      "          3       0.00      0.00      0.00         0\n",
      "          5       0.00      0.00      0.00         0\n",
      "          8       1.00      0.13      0.23        55\n",
      "          9       0.00      0.00      0.00         0\n",
      "         10       0.00      0.00      0.00         0\n",
      "         11       0.00      0.00      0.00         0\n",
      "\n",
      "avg / total       1.00      0.13      0.23        55\n",
      "\n",
      "8\n",
      "6.62 Seconds to train random forest...\n",
      "Test Accuracy of Random Forest =  0.8727\n"
     ]
    },
    {
     "name": "stderr",
     "output_type": "stream",
     "text": [
      "/home/rajat/.local/lib/python3.5/site-packages/sklearn/metrics/classification.py:1137: UndefinedMetricWarning: Recall and F-score are ill-defined and being set to 0.0 in labels with no true samples.\n",
      "  'recall', 'true', average, warn_for)\n"
     ]
    },
    {
     "name": "stdout",
     "output_type": "stream",
     "text": [
      "sensitivity for  Diving-Side\n",
      "             precision    recall  f1-score   support\n",
      "\n",
      "          1       0.00      0.00      0.00         0\n",
      "          3       0.00      0.00      0.00         0\n",
      "          5       0.00      0.00      0.00         0\n",
      "          8       1.00      0.87      0.93        55\n",
      "          9       0.00      0.00      0.00         0\n",
      "\n",
      "avg / total       1.00      0.87      0.93        55\n",
      "\n",
      "8\n",
      "6.84 Seconds to train random forest...\n",
      "Test Accuracy of Random Forest =  0.1091\n",
      "sensitivity for  "
     ]
    },
    {
     "name": "stderr",
     "output_type": "stream",
     "text": [
      "/home/rajat/.local/lib/python3.5/site-packages/sklearn/metrics/classification.py:1137: UndefinedMetricWarning: Recall and F-score are ill-defined and being set to 0.0 in labels with no true samples.\n",
      "  'recall', 'true', average, warn_for)\n"
     ]
    },
    {
     "name": "stdout",
     "output_type": "stream",
     "text": [
      "Diving-Side\n",
      "             precision    recall  f1-score   support\n",
      "\n",
      "          1       0.00      0.00      0.00         0\n",
      "          3       0.00      0.00      0.00         0\n",
      "          5       0.00      0.00      0.00         0\n",
      "          8       1.00      0.11      0.20        55\n",
      "          9       0.00      0.00      0.00         0\n",
      "         11       0.00      0.00      0.00         0\n",
      "\n",
      "avg / total       1.00      0.11      0.20        55\n",
      "\n",
      "8\n",
      "7.82 Seconds to train random forest...\n",
      "Test Accuracy of Random Forest =  0.7636\n"
     ]
    },
    {
     "name": "stderr",
     "output_type": "stream",
     "text": [
      "/home/rajat/.local/lib/python3.5/site-packages/sklearn/metrics/classification.py:1137: UndefinedMetricWarning: Recall and F-score are ill-defined and being set to 0.0 in labels with no true samples.\n",
      "  'recall', 'true', average, warn_for)\n"
     ]
    },
    {
     "name": "stdout",
     "output_type": "stream",
     "text": [
      "sensitivity for  Diving-Side\n",
      "             precision    recall  f1-score   support\n",
      "\n",
      "          1       0.00      0.00      0.00         0\n",
      "          3       0.00      0.00      0.00         0\n",
      "          8       1.00      0.76      0.87        55\n",
      "          9       0.00      0.00      0.00         0\n",
      "         10       0.00      0.00      0.00         0\n",
      "\n",
      "avg / total       1.00      0.76      0.87        55\n",
      "\n",
      "8\n",
      "6.58 Seconds to train random forest...\n",
      "Test Accuracy of Random Forest =  1.0\n",
      "sensitivity for  Diving-Side\n",
      "             precision    recall  f1-score   support\n",
      "\n",
      "          8       1.00      1.00      1.00        55\n",
      "\n",
      "avg / total       1.00      1.00      1.00        55\n",
      "\n",
      "8\n",
      "6.92 Seconds to train random forest...\n",
      "Test Accuracy of Random Forest =  0.8364\n",
      "sensitivity for "
     ]
    },
    {
     "name": "stderr",
     "output_type": "stream",
     "text": [
      "/home/rajat/.local/lib/python3.5/site-packages/sklearn/metrics/classification.py:1137: UndefinedMetricWarning: Recall and F-score are ill-defined and being set to 0.0 in labels with no true samples.\n",
      "  'recall', 'true', average, warn_for)\n"
     ]
    },
    {
     "name": "stdout",
     "output_type": "stream",
     "text": [
      " Diving-Side\n",
      "             precision    recall  f1-score   support\n",
      "\n",
      "          3       0.00      0.00      0.00         0\n",
      "          5       0.00      0.00      0.00         0\n",
      "          8       1.00      0.84      0.91        55\n",
      "          9       0.00      0.00      0.00         0\n",
      "\n",
      "avg / total       1.00      0.84      0.91        55\n",
      "\n",
      "8\n",
      "6.42 Seconds to train random forest...\n",
      "Test Accuracy of Random Forest =  0.8909\n"
     ]
    },
    {
     "name": "stderr",
     "output_type": "stream",
     "text": [
      "/home/rajat/.local/lib/python3.5/site-packages/sklearn/metrics/classification.py:1137: UndefinedMetricWarning: Recall and F-score are ill-defined and being set to 0.0 in labels with no true samples.\n",
      "  'recall', 'true', average, warn_for)\n"
     ]
    },
    {
     "name": "stdout",
     "output_type": "stream",
     "text": [
      "sensitivity for  Diving-Side\n",
      "             precision    recall  f1-score   support\n",
      "\n",
      "          1       0.00      0.00      0.00         0\n",
      "          3       0.00      0.00      0.00         0\n",
      "          8       1.00      0.89      0.94        55\n",
      "          9       0.00      0.00      0.00         0\n",
      "\n",
      "avg / total       1.00      0.89      0.94        55\n",
      "\n",
      "8\n",
      "6.51 Seconds to train random forest...\n",
      "Test Accuracy of Random Forest =  0.9636\n"
     ]
    },
    {
     "name": "stderr",
     "output_type": "stream",
     "text": [
      "/home/rajat/.local/lib/python3.5/site-packages/sklearn/metrics/classification.py:1137: UndefinedMetricWarning: Recall and F-score are ill-defined and being set to 0.0 in labels with no true samples.\n",
      "  'recall', 'true', average, warn_for)\n"
     ]
    },
    {
     "name": "stdout",
     "output_type": "stream",
     "text": [
      "sensitivity for  Diving-Side\n",
      "             precision    recall  f1-score   support\n",
      "\n",
      "          5       0.00      0.00      0.00         0\n",
      "          8       1.00      0.96      0.98        55\n",
      "\n",
      "avg / total       1.00      0.96      0.98        55\n",
      "\n",
      "8\n",
      "6.63 Seconds to train random forest...\n",
      "Test Accuracy of Random Forest =  0.8727\n"
     ]
    },
    {
     "name": "stderr",
     "output_type": "stream",
     "text": [
      "/home/rajat/.local/lib/python3.5/site-packages/sklearn/metrics/classification.py:1137: UndefinedMetricWarning: Recall and F-score are ill-defined and being set to 0.0 in labels with no true samples.\n",
      "  'recall', 'true', average, warn_for)\n"
     ]
    },
    {
     "name": "stdout",
     "output_type": "stream",
     "text": [
      "sensitivity for  Diving-Side\n",
      "             precision    recall  f1-score   support\n",
      "\n",
      "          1       0.00      0.00      0.00         0\n",
      "          3       0.00      0.00      0.00         0\n",
      "          5       0.00      0.00      0.00         0\n",
      "          8       1.00      0.87      0.93        55\n",
      "\n",
      "avg / total       1.00      0.87      0.93        55\n",
      "\n",
      "8\n",
      "6.27 Seconds to train random forest...\n",
      "Test Accuracy of Random Forest =  0.8182\n"
     ]
    },
    {
     "name": "stderr",
     "output_type": "stream",
     "text": [
      "/home/rajat/.local/lib/python3.5/site-packages/sklearn/metrics/classification.py:1137: UndefinedMetricWarning: Recall and F-score are ill-defined and being set to 0.0 in labels with no true samples.\n",
      "  'recall', 'true', average, warn_for)\n"
     ]
    },
    {
     "name": "stdout",
     "output_type": "stream",
     "text": [
      "sensitivity for  Diving-Side\n",
      "             precision    recall  f1-score   support\n",
      "\n",
      "          3       0.00      0.00      0.00         0\n",
      "          5       0.00      0.00      0.00         0\n",
      "          8       1.00      0.82      0.90        55\n",
      "          9       0.00      0.00      0.00         0\n",
      "\n",
      "avg / total       1.00      0.82      0.90        55\n",
      "\n",
      "8\n",
      "7.14 Seconds to train random forest...\n",
      "Test Accuracy of Random Forest =  0.0\n"
     ]
    },
    {
     "name": "stderr",
     "output_type": "stream",
     "text": [
      "/home/rajat/.local/lib/python3.5/site-packages/sklearn/metrics/classification.py:1135: UndefinedMetricWarning: Precision and F-score are ill-defined and being set to 0.0 in labels with no predicted samples.\n",
      "  'precision', 'predicted', average, warn_for)\n",
      "/home/rajat/.local/lib/python3.5/site-packages/sklearn/metrics/classification.py:1137: UndefinedMetricWarning: Recall and F-score are ill-defined and being set to 0.0 in labels with no true samples.\n",
      "  'recall', 'true', average, warn_for)\n"
     ]
    },
    {
     "name": "stdout",
     "output_type": "stream",
     "text": [
      "sensitivity for  Golf-Swing-Side\n",
      "             precision    recall  f1-score   support\n",
      "\n",
      "          3       0.00      0.00      0.00         0\n",
      "          5       0.00      0.00      0.00         0\n",
      "          9       0.00      0.00      0.00         0\n",
      "         11       0.00      0.00      0.00         0\n",
      "         12       0.00      0.00      0.00        60\n",
      "\n",
      "avg / total       0.00      0.00      0.00        60\n",
      "\n",
      "12\n",
      "6.19 Seconds to train random forest...\n",
      "Test Accuracy of Random Forest =  0.8\n"
     ]
    },
    {
     "name": "stderr",
     "output_type": "stream",
     "text": [
      "/home/rajat/.local/lib/python3.5/site-packages/sklearn/metrics/classification.py:1137: UndefinedMetricWarning: Recall and F-score are ill-defined and being set to 0.0 in labels with no true samples.\n",
      "  'recall', 'true', average, warn_for)\n"
     ]
    },
    {
     "name": "stdout",
     "output_type": "stream",
     "text": [
      "sensitivity for  Golf-Swing-Side\n",
      "             precision    recall  f1-score   support\n",
      "\n",
      "          0       0.00      0.00      0.00         0\n",
      "          1       0.00      0.00      0.00         0\n",
      "          2       0.00      0.00      0.00         0\n",
      "          3       0.00      0.00      0.00         0\n",
      "          9       0.00      0.00      0.00         0\n",
      "         12       1.00      0.80      0.89        60\n",
      "\n",
      "avg / total       1.00      0.80      0.89        60\n",
      "\n",
      "12\n",
      "6.23 Seconds to train random forest...\n",
      "Test Accuracy of Random Forest =  0.0\n"
     ]
    },
    {
     "name": "stderr",
     "output_type": "stream",
     "text": [
      "/home/rajat/.local/lib/python3.5/site-packages/sklearn/metrics/classification.py:1135: UndefinedMetricWarning: Precision and F-score are ill-defined and being set to 0.0 in labels with no predicted samples.\n",
      "  'precision', 'predicted', average, warn_for)\n",
      "/home/rajat/.local/lib/python3.5/site-packages/sklearn/metrics/classification.py:1137: UndefinedMetricWarning: Recall and F-score are ill-defined and being set to 0.0 in labels with no true samples.\n",
      "  'recall', 'true', average, warn_for)\n"
     ]
    },
    {
     "name": "stdout",
     "output_type": "stream",
     "text": [
      "sensitivity for  Golf-Swing-Side\n",
      "             precision    recall  f1-score   support\n",
      "\n",
      "          3       0.00      0.00      0.00         0\n",
      "          4       0.00      0.00      0.00         0\n",
      "          8       0.00      0.00      0.00         0\n",
      "          9       0.00      0.00      0.00         0\n",
      "         10       0.00      0.00      0.00         0\n",
      "         11       0.00      0.00      0.00         0\n",
      "         12       0.00      0.00      0.00        60\n",
      "\n",
      "avg / total       0.00      0.00      0.00        60\n",
      "\n",
      "12\n",
      "6.28 Seconds to train random forest...\n",
      "Test Accuracy of Random Forest =  0.55\n"
     ]
    },
    {
     "name": "stderr",
     "output_type": "stream",
     "text": [
      "/home/rajat/.local/lib/python3.5/site-packages/sklearn/metrics/classification.py:1137: UndefinedMetricWarning: Recall and F-score are ill-defined and being set to 0.0 in labels with no true samples.\n",
      "  'recall', 'true', average, warn_for)\n"
     ]
    },
    {
     "name": "stdout",
     "output_type": "stream",
     "text": [
      "sensitivity for  Golf-Swing-Side\n",
      "             precision    recall  f1-score   support\n",
      "\n",
      "          1       0.00      0.00      0.00         0\n",
      "          2       0.00      0.00      0.00         0\n",
      "          3       0.00      0.00      0.00         0\n",
      "          4       0.00      0.00      0.00         0\n",
      "          5       0.00      0.00      0.00         0\n",
      "          9       0.00      0.00      0.00         0\n",
      "         12       1.00      0.55      0.71        60\n",
      "\n",
      "avg / total       1.00      0.55      0.71        60\n",
      "\n",
      "12\n",
      "6.31 Seconds to train random forest...\n",
      "Test Accuracy of Random Forest =  0.0\n"
     ]
    },
    {
     "name": "stderr",
     "output_type": "stream",
     "text": [
      "/home/rajat/.local/lib/python3.5/site-packages/sklearn/metrics/classification.py:1135: UndefinedMetricWarning: Precision and F-score are ill-defined and being set to 0.0 in labels with no predicted samples.\n",
      "  'precision', 'predicted', average, warn_for)\n",
      "/home/rajat/.local/lib/python3.5/site-packages/sklearn/metrics/classification.py:1137: UndefinedMetricWarning: Recall and F-score are ill-defined and being set to 0.0 in labels with no true samples.\n",
      "  'recall', 'true', average, warn_for)\n"
     ]
    },
    {
     "name": "stdout",
     "output_type": "stream",
     "text": [
      "sensitivity for  Golf-Swing-Side\n",
      "             precision    recall  f1-score   support\n",
      "\n",
      "          9       0.00      0.00      0.00         0\n",
      "         12       0.00      0.00      0.00        60\n",
      "\n",
      "avg / total       0.00      0.00      0.00        60\n",
      "\n",
      "12\n",
      "6.28 Seconds to train random forest...\n",
      "Test Accuracy of Random Forest =  0.3286\n"
     ]
    },
    {
     "name": "stderr",
     "output_type": "stream",
     "text": [
      "/home/rajat/.local/lib/python3.5/site-packages/sklearn/metrics/classification.py:1137: UndefinedMetricWarning: Recall and F-score are ill-defined and being set to 0.0 in labels with no true samples.\n",
      "  'recall', 'true', average, warn_for)\n"
     ]
    },
    {
     "name": "stdout",
     "output_type": "stream",
     "text": [
      "sensitivity for  SkateBoarding-Front\n",
      "             precision    recall  f1-score   support\n",
      "\n",
      "          3       0.00      0.00      0.00         0\n",
      "          9       0.00      0.00      0.00         0\n",
      "         11       1.00      0.33      0.49        70\n",
      "\n",
      "avg / total       1.00      0.33      0.49        70\n",
      "\n",
      "11\n",
      "6.29 Seconds to train random forest...\n",
      "Test Accuracy of Random Forest =  1.0\n",
      "sensitivity for  SkateBoarding-Front\n",
      "             precision    recall  f1-score   support\n",
      "\n",
      "         11       1.00      1.00      1.00        70\n",
      "\n",
      "avg / total       1.00      1.00      1.00        70\n",
      "\n",
      "11\n",
      "6.34 Seconds to train random forest...\n",
      "Test Accuracy of Random Forest =  0.7714\n",
      "sensitivity for  "
     ]
    },
    {
     "name": "stderr",
     "output_type": "stream",
     "text": [
      "/home/rajat/.local/lib/python3.5/site-packages/sklearn/metrics/classification.py:1137: UndefinedMetricWarning: Recall and F-score are ill-defined and being set to 0.0 in labels with no true samples.\n",
      "  'recall', 'true', average, warn_for)\n"
     ]
    },
    {
     "name": "stdout",
     "output_type": "stream",
     "text": [
      "SkateBoarding-Front\n",
      "             precision    recall  f1-score   support\n",
      "\n",
      "          1       0.00      0.00      0.00         0\n",
      "          3       0.00      0.00      0.00         0\n",
      "          9       0.00      0.00      0.00         0\n",
      "         11       1.00      0.77      0.87        70\n",
      "\n",
      "avg / total       1.00      0.77      0.87        70\n",
      "\n",
      "11\n",
      "6.32 Seconds to train random forest...\n",
      "Test Accuracy of Random Forest =  0.0714\n",
      "sensitivity for "
     ]
    },
    {
     "name": "stderr",
     "output_type": "stream",
     "text": [
      "/home/rajat/.local/lib/python3.5/site-packages/sklearn/metrics/classification.py:1137: UndefinedMetricWarning: Recall and F-score are ill-defined and being set to 0.0 in labels with no true samples.\n",
      "  'recall', 'true', average, warn_for)\n"
     ]
    },
    {
     "name": "stdout",
     "output_type": "stream",
     "text": [
      " SkateBoarding-Front\n",
      "             precision    recall  f1-score   support\n",
      "\n",
      "          9       0.00      0.00      0.00         0\n",
      "         11       1.00      0.07      0.13        70\n",
      "\n",
      "avg / total       1.00      0.07      0.13        70\n",
      "\n",
      "11\n",
      "6.29 Seconds to train random forest...\n",
      "Test Accuracy of Random Forest =  0.3429\n"
     ]
    },
    {
     "name": "stderr",
     "output_type": "stream",
     "text": [
      "/home/rajat/.local/lib/python3.5/site-packages/sklearn/metrics/classification.py:1137: UndefinedMetricWarning: Recall and F-score are ill-defined and being set to 0.0 in labels with no true samples.\n",
      "  'recall', 'true', average, warn_for)\n"
     ]
    },
    {
     "name": "stdout",
     "output_type": "stream",
     "text": [
      "sensitivity for  SkateBoarding-Front\n",
      "             precision    recall  f1-score   support\n",
      "\n",
      "          3       0.00      0.00      0.00         0\n",
      "          5       0.00      0.00      0.00         0\n",
      "          9       0.00      0.00      0.00         0\n",
      "         11       1.00      0.34      0.51        70\n",
      "\n",
      "avg / total       1.00      0.34      0.51        70\n",
      "\n",
      "11\n",
      "6.25 Seconds to train random forest...\n",
      "Test Accuracy of Random Forest =  1.0\n",
      "sensitivity for  SkateBoarding-Front\n",
      "             precision    recall  f1-score   support\n",
      "\n",
      "         11       1.00      1.00      1.00        70\n",
      "\n",
      "avg / total       1.00      1.00      1.00        70\n",
      "\n",
      "11\n",
      "6.98 Seconds to train random forest...\n",
      "Test Accuracy of Random Forest =  0.6143\n"
     ]
    },
    {
     "name": "stderr",
     "output_type": "stream",
     "text": [
      "/home/rajat/.local/lib/python3.5/site-packages/sklearn/metrics/classification.py:1137: UndefinedMetricWarning: Recall and F-score are ill-defined and being set to 0.0 in labels with no true samples.\n",
      "  'recall', 'true', average, warn_for)\n"
     ]
    },
    {
     "name": "stdout",
     "output_type": "stream",
     "text": [
      "sensitivity for  SkateBoarding-Front\n",
      "             precision    recall  f1-score   support\n",
      "\n",
      "          1       0.00      0.00      0.00         0\n",
      "          5       0.00      0.00      0.00         0\n",
      "          9       0.00      0.00      0.00         0\n",
      "         11       1.00      0.61      0.76        70\n",
      "\n",
      "avg / total       1.00      0.61      0.76        70\n",
      "\n",
      "11\n",
      "6.64 Seconds to train random forest...\n",
      "Test Accuracy of Random Forest =  0.5\n"
     ]
    },
    {
     "name": "stderr",
     "output_type": "stream",
     "text": [
      "/home/rajat/.local/lib/python3.5/site-packages/sklearn/metrics/classification.py:1137: UndefinedMetricWarning: Recall and F-score are ill-defined and being set to 0.0 in labels with no true samples.\n",
      "  'recall', 'true', average, warn_for)\n"
     ]
    },
    {
     "name": "stdout",
     "output_type": "stream",
     "text": [
      "sensitivity for  SkateBoarding-Front\n",
      "             precision    recall  f1-score   support\n",
      "\n",
      "          3       0.00      0.00      0.00         0\n",
      "          5       0.00      0.00      0.00         0\n",
      "          8       0.00      0.00      0.00         0\n",
      "          9       0.00      0.00      0.00         0\n",
      "         11       1.00      0.50      0.67        70\n",
      "\n",
      "avg / total       1.00      0.50      0.67        70\n",
      "\n",
      "11\n",
      "6.66 Seconds to train random forest...\n",
      "Test Accuracy of Random Forest =  0.9857\n"
     ]
    },
    {
     "name": "stderr",
     "output_type": "stream",
     "text": [
      "/home/rajat/.local/lib/python3.5/site-packages/sklearn/metrics/classification.py:1137: UndefinedMetricWarning: Recall and F-score are ill-defined and being set to 0.0 in labels with no true samples.\n",
      "  'recall', 'true', average, warn_for)\n"
     ]
    },
    {
     "name": "stdout",
     "output_type": "stream",
     "text": [
      "sensitivity for  SkateBoarding-Front\n",
      "             precision    recall  f1-score   support\n",
      "\n",
      "          9       0.00      0.00      0.00         0\n",
      "         11       1.00      0.99      0.99        70\n",
      "\n",
      "avg / total       1.00      0.99      0.99        70\n",
      "\n",
      "11\n",
      "6.64 Seconds to train random forest...\n",
      "Test Accuracy of Random Forest =  0.0429\n"
     ]
    },
    {
     "name": "stderr",
     "output_type": "stream",
     "text": [
      "/home/rajat/.local/lib/python3.5/site-packages/sklearn/metrics/classification.py:1137: UndefinedMetricWarning: Recall and F-score are ill-defined and being set to 0.0 in labels with no true samples.\n",
      "  'recall', 'true', average, warn_for)\n"
     ]
    },
    {
     "name": "stdout",
     "output_type": "stream",
     "text": [
      "sensitivity for  SkateBoarding-Front\n",
      "             precision    recall  f1-score   support\n",
      "\n",
      "          3       0.00      0.00      0.00         0\n",
      "          9       0.00      0.00      0.00         0\n",
      "         10       0.00      0.00      0.00         0\n",
      "         11       1.00      0.04      0.08        70\n",
      "\n",
      "avg / total       1.00      0.04      0.08        70\n",
      "\n",
      "11\n",
      "6.56 Seconds to train random forest...\n",
      "Test Accuracy of Random Forest =  0.9\n",
      "sensitivity for "
     ]
    },
    {
     "name": "stderr",
     "output_type": "stream",
     "text": [
      "/home/rajat/.local/lib/python3.5/site-packages/sklearn/metrics/classification.py:1137: UndefinedMetricWarning: Recall and F-score are ill-defined and being set to 0.0 in labels with no true samples.\n",
      "  'recall', 'true', average, warn_for)\n"
     ]
    },
    {
     "name": "stdout",
     "output_type": "stream",
     "text": [
      " SkateBoarding-Front\n",
      "             precision    recall  f1-score   support\n",
      "\n",
      "          1       0.00      0.00      0.00         0\n",
      "          5       0.00      0.00      0.00         0\n",
      "          9       0.00      0.00      0.00         0\n",
      "         11       1.00      0.90      0.95        70\n",
      "\n",
      "avg / total       1.00      0.90      0.95        70\n",
      "\n",
      "11\n",
      "6.57 Seconds to train random forest...\n",
      "Test Accuracy of Random Forest =  0.1\n"
     ]
    },
    {
     "name": "stderr",
     "output_type": "stream",
     "text": [
      "/home/rajat/.local/lib/python3.5/site-packages/sklearn/metrics/classification.py:1137: UndefinedMetricWarning: Recall and F-score are ill-defined and being set to 0.0 in labels with no true samples.\n",
      "  'recall', 'true', average, warn_for)\n"
     ]
    },
    {
     "name": "stdout",
     "output_type": "stream",
     "text": [
      "sensitivity for  SkateBoarding-Front\n",
      "             precision    recall  f1-score   support\n",
      "\n",
      "          3       0.00      0.00      0.00         0\n",
      "          5       0.00      0.00      0.00         0\n",
      "          9       0.00      0.00      0.00         0\n",
      "         11       1.00      0.10      0.18        70\n",
      "\n",
      "avg / total       1.00      0.10      0.18        70\n",
      "\n",
      "11\n",
      "6.54 Seconds to train random forest...\n",
      "Test Accuracy of Random Forest =  0.0594\n"
     ]
    },
    {
     "name": "stderr",
     "output_type": "stream",
     "text": [
      "/home/rajat/.local/lib/python3.5/site-packages/sklearn/metrics/classification.py:1137: UndefinedMetricWarning: Recall and F-score are ill-defined and being set to 0.0 in labels with no true samples.\n",
      "  'recall', 'true', average, warn_for)\n"
     ]
    },
    {
     "name": "stdout",
     "output_type": "stream",
     "text": [
      "sensitivity for  Walk-Front\n",
      "             precision    recall  f1-score   support\n",
      "\n",
      "          9       1.00      0.06      0.11       101\n",
      "         11       0.00      0.00      0.00         0\n",
      "\n",
      "avg / total       1.00      0.06      0.11       101\n",
      "\n",
      "9\n",
      "6.67 Seconds to train random forest...\n",
      "Test Accuracy of Random Forest =  0.0\n"
     ]
    },
    {
     "name": "stderr",
     "output_type": "stream",
     "text": [
      "/home/rajat/.local/lib/python3.5/site-packages/sklearn/metrics/classification.py:1135: UndefinedMetricWarning: Precision and F-score are ill-defined and being set to 0.0 in labels with no predicted samples.\n",
      "  'precision', 'predicted', average, warn_for)\n",
      "/home/rajat/.local/lib/python3.5/site-packages/sklearn/metrics/classification.py:1137: UndefinedMetricWarning: Recall and F-score are ill-defined and being set to 0.0 in labels with no true samples.\n",
      "  'recall', 'true', average, warn_for)\n"
     ]
    },
    {
     "name": "stdout",
     "output_type": "stream",
     "text": [
      "sensitivity for  Walk-Front\n",
      "             precision    recall  f1-score   support\n",
      "\n",
      "          1       0.00      0.00      0.00         0\n",
      "          3       0.00      0.00      0.00         0\n",
      "          5       0.00      0.00      0.00         0\n",
      "          9       0.00      0.00      0.00       101\n",
      "\n",
      "avg / total       0.00      0.00      0.00       101\n",
      "\n",
      "9\n",
      "6.88 Seconds to train random forest...\n",
      "Test Accuracy of Random Forest =  0.9901\n"
     ]
    },
    {
     "name": "stderr",
     "output_type": "stream",
     "text": [
      "/home/rajat/.local/lib/python3.5/site-packages/sklearn/metrics/classification.py:1137: UndefinedMetricWarning: Recall and F-score are ill-defined and being set to 0.0 in labels with no true samples.\n",
      "  'recall', 'true', average, warn_for)\n"
     ]
    },
    {
     "name": "stdout",
     "output_type": "stream",
     "text": [
      "sensitivity for  Walk-Front\n",
      "             precision    recall  f1-score   support\n",
      "\n",
      "          5       0.00      0.00      0.00         0\n",
      "          9       1.00      0.99      1.00       101\n",
      "\n",
      "avg / total       1.00      0.99      1.00       101\n",
      "\n",
      "9\n",
      "7.27 Seconds to train random forest...\n",
      "Test Accuracy of Random Forest =  0.9703\n"
     ]
    },
    {
     "name": "stderr",
     "output_type": "stream",
     "text": [
      "/home/rajat/.local/lib/python3.5/site-packages/sklearn/metrics/classification.py:1137: UndefinedMetricWarning: Recall and F-score are ill-defined and being set to 0.0 in labels with no true samples.\n",
      "  'recall', 'true', average, warn_for)\n"
     ]
    },
    {
     "name": "stdout",
     "output_type": "stream",
     "text": [
      "sensitivity for  Walk-Front\n",
      "             precision    recall  f1-score   support\n",
      "\n",
      "          3       0.00      0.00      0.00         0\n",
      "          9       1.00      0.97      0.98       101\n",
      "         11       0.00      0.00      0.00         0\n",
      "\n",
      "avg / total       1.00      0.97      0.98       101\n",
      "\n",
      "9\n",
      "6.9 Seconds to train random forest...\n",
      "Test Accuracy of Random Forest =  0.7927\n",
      "sensitivity for "
     ]
    },
    {
     "name": "stderr",
     "output_type": "stream",
     "text": [
      "/home/rajat/.local/lib/python3.5/site-packages/sklearn/metrics/classification.py:1137: UndefinedMetricWarning: Recall and F-score are ill-defined and being set to 0.0 in labels with no true samples.\n",
      "  'recall', 'true', average, warn_for)\n"
     ]
    },
    {
     "name": "stdout",
     "output_type": "stream",
     "text": [
      " Walk-Front\n",
      "             precision    recall  f1-score   support\n",
      "\n",
      "          3       0.00      0.00      0.00         0\n",
      "          4       0.00      0.00      0.00         0\n",
      "          5       0.00      0.00      0.00         0\n",
      "          9       1.00      0.79      0.88        82\n",
      "         10       0.00      0.00      0.00         0\n",
      "         11       0.00      0.00      0.00         0\n",
      "         12       0.00      0.00      0.00         0\n",
      "\n",
      "avg / total       1.00      0.79      0.88        82\n",
      "\n",
      "9\n",
      "6.76 Seconds to train random forest...\n",
      "Test Accuracy of Random Forest =  0.7921\n"
     ]
    },
    {
     "name": "stderr",
     "output_type": "stream",
     "text": [
      "/home/rajat/.local/lib/python3.5/site-packages/sklearn/metrics/classification.py:1137: UndefinedMetricWarning: Recall and F-score are ill-defined and being set to 0.0 in labels with no true samples.\n",
      "  'recall', 'true', average, warn_for)\n"
     ]
    },
    {
     "name": "stdout",
     "output_type": "stream",
     "text": [
      "sensitivity for  Walk-Front\n",
      "             precision    recall  f1-score   support\n",
      "\n",
      "          0       0.00      0.00      0.00         0\n",
      "          1       0.00      0.00      0.00         0\n",
      "          3       0.00      0.00      0.00         0\n",
      "          5       0.00      0.00      0.00         0\n",
      "          9       1.00      0.79      0.88       101\n",
      "         10       0.00      0.00      0.00         0\n",
      "         11       0.00      0.00      0.00         0\n",
      "\n",
      "avg / total       1.00      0.79      0.88       101\n",
      "\n",
      "9\n",
      "7.03 Seconds to train random forest...\n",
      "Test Accuracy of Random Forest =  0.2574\n"
     ]
    },
    {
     "name": "stderr",
     "output_type": "stream",
     "text": [
      "/home/rajat/.local/lib/python3.5/site-packages/sklearn/metrics/classification.py:1137: UndefinedMetricWarning: Recall and F-score are ill-defined and being set to 0.0 in labels with no true samples.\n",
      "  'recall', 'true', average, warn_for)\n"
     ]
    },
    {
     "name": "stdout",
     "output_type": "stream",
     "text": [
      "sensitivity for  Walk-Front\n",
      "             precision    recall  f1-score   support\n",
      "\n",
      "          3       0.00      0.00      0.00         0\n",
      "          9       1.00      0.26      0.41       101\n",
      "         10       0.00      0.00      0.00         0\n",
      "         11       0.00      0.00      0.00         0\n",
      "\n",
      "avg / total       1.00      0.26      0.41       101\n",
      "\n",
      "9\n",
      "6.51 Seconds to train random forest...\n",
      "Test Accuracy of Random Forest =  0.0\n"
     ]
    },
    {
     "name": "stderr",
     "output_type": "stream",
     "text": [
      "/home/rajat/.local/lib/python3.5/site-packages/sklearn/metrics/classification.py:1135: UndefinedMetricWarning: Precision and F-score are ill-defined and being set to 0.0 in labels with no predicted samples.\n",
      "  'precision', 'predicted', average, warn_for)\n",
      "/home/rajat/.local/lib/python3.5/site-packages/sklearn/metrics/classification.py:1137: UndefinedMetricWarning: Recall and F-score are ill-defined and being set to 0.0 in labels with no true samples.\n",
      "  'recall', 'true', average, warn_for)\n"
     ]
    },
    {
     "name": "stdout",
     "output_type": "stream",
     "text": [
      "sensitivity for  Walk-Front\n",
      "             precision    recall  f1-score   support\n",
      "\n",
      "          2       0.00      0.00      0.00         0\n",
      "          3       0.00      0.00      0.00         0\n",
      "          6       0.00      0.00      0.00         0\n",
      "          9       0.00      0.00      0.00       101\n",
      "         10       0.00      0.00      0.00         0\n",
      "\n",
      "avg / total       0.00      0.00      0.00       101\n",
      "\n",
      "9\n",
      "6.51 Seconds to train random forest...\n",
      "Test Accuracy of Random Forest =  0.4653\n"
     ]
    },
    {
     "name": "stderr",
     "output_type": "stream",
     "text": [
      "/home/rajat/.local/lib/python3.5/site-packages/sklearn/metrics/classification.py:1137: UndefinedMetricWarning: Recall and F-score are ill-defined and being set to 0.0 in labels with no true samples.\n",
      "  'recall', 'true', average, warn_for)\n"
     ]
    },
    {
     "name": "stdout",
     "output_type": "stream",
     "text": [
      "sensitivity for  Walk-Front\n",
      "             precision    recall  f1-score   support\n",
      "\n",
      "          1       0.00      0.00      0.00         0\n",
      "          5       0.00      0.00      0.00         0\n",
      "          8       0.00      0.00      0.00         0\n",
      "          9       1.00      0.47      0.64       101\n",
      "\n",
      "avg / total       1.00      0.47      0.64       101\n",
      "\n",
      "9\n",
      "7.38 Seconds to train random forest...\n",
      "Test Accuracy of Random Forest =  0.703\n",
      "sensitivity for "
     ]
    },
    {
     "name": "stderr",
     "output_type": "stream",
     "text": [
      "/home/rajat/.local/lib/python3.5/site-packages/sklearn/metrics/classification.py:1137: UndefinedMetricWarning: Recall and F-score are ill-defined and being set to 0.0 in labels with no true samples.\n",
      "  'recall', 'true', average, warn_for)\n"
     ]
    },
    {
     "name": "stdout",
     "output_type": "stream",
     "text": [
      " Walk-Front\n",
      "             precision    recall  f1-score   support\n",
      "\n",
      "          1       0.00      0.00      0.00         0\n",
      "          5       0.00      0.00      0.00         0\n",
      "          9       1.00      0.70      0.83       101\n",
      "         12       0.00      0.00      0.00         0\n",
      "\n",
      "avg / total       1.00      0.70      0.83       101\n",
      "\n",
      "9\n",
      "7.02 Seconds to train random forest...\n",
      "Test Accuracy of Random Forest =  0.6634\n"
     ]
    },
    {
     "name": "stderr",
     "output_type": "stream",
     "text": [
      "/home/rajat/.local/lib/python3.5/site-packages/sklearn/metrics/classification.py:1137: UndefinedMetricWarning: Recall and F-score are ill-defined and being set to 0.0 in labels with no true samples.\n",
      "  'recall', 'true', average, warn_for)\n"
     ]
    },
    {
     "name": "stdout",
     "output_type": "stream",
     "text": [
      "sensitivity for  Walk-Front\n",
      "             precision    recall  f1-score   support\n",
      "\n",
      "          9       1.00      0.66      0.80       101\n",
      "         10       0.00      0.00      0.00         0\n",
      "         11       0.00      0.00      0.00         0\n",
      "\n",
      "avg / total       1.00      0.66      0.80       101\n",
      "\n",
      "9\n",
      "6.58 Seconds to train random forest...\n",
      "Test Accuracy of Random Forest =  0.7426\n"
     ]
    },
    {
     "name": "stderr",
     "output_type": "stream",
     "text": [
      "/home/rajat/.local/lib/python3.5/site-packages/sklearn/metrics/classification.py:1137: UndefinedMetricWarning: Recall and F-score are ill-defined and being set to 0.0 in labels with no true samples.\n",
      "  'recall', 'true', average, warn_for)\n"
     ]
    },
    {
     "name": "stdout",
     "output_type": "stream",
     "text": [
      "sensitivity for  Walk-Front\n",
      "             precision    recall  f1-score   support\n",
      "\n",
      "          1       0.00      0.00      0.00         0\n",
      "          3       0.00      0.00      0.00         0\n",
      "          4       0.00      0.00      0.00         0\n",
      "          8       0.00      0.00      0.00         0\n",
      "          9       1.00      0.74      0.85       101\n",
      "         10       0.00      0.00      0.00         0\n",
      "         11       0.00      0.00      0.00         0\n",
      "\n",
      "avg / total       1.00      0.74      0.85       101\n",
      "\n",
      "9\n",
      "7.02 Seconds to train random forest...\n",
      "Test Accuracy of Random Forest =  0.8515\n"
     ]
    },
    {
     "name": "stderr",
     "output_type": "stream",
     "text": [
      "/home/rajat/.local/lib/python3.5/site-packages/sklearn/metrics/classification.py:1137: UndefinedMetricWarning: Recall and F-score are ill-defined and being set to 0.0 in labels with no true samples.\n",
      "  'recall', 'true', average, warn_for)\n"
     ]
    },
    {
     "name": "stdout",
     "output_type": "stream",
     "text": [
      "sensitivity for  Walk-Front\n",
      "             precision    recall  f1-score   support\n",
      "\n",
      "          3       0.00      0.00      0.00         0\n",
      "          4       0.00      0.00      0.00         0\n",
      "          9       1.00      0.85      0.92       101\n",
      "         10       0.00      0.00      0.00         0\n",
      "\n",
      "avg / total       1.00      0.85      0.92       101\n",
      "\n",
      "9\n",
      "8.43 Seconds to train random forest...\n",
      "Test Accuracy of Random Forest =  0.9406\n",
      "sensitivity for "
     ]
    },
    {
     "name": "stderr",
     "output_type": "stream",
     "text": [
      "/home/rajat/.local/lib/python3.5/site-packages/sklearn/metrics/classification.py:1137: UndefinedMetricWarning: Recall and F-score are ill-defined and being set to 0.0 in labels with no true samples.\n",
      "  'recall', 'true', average, warn_for)\n"
     ]
    },
    {
     "name": "stdout",
     "output_type": "stream",
     "text": [
      " Walk-Front\n",
      "             precision    recall  f1-score   support\n",
      "\n",
      "          5       0.00      0.00      0.00         0\n",
      "          9       1.00      0.94      0.97       101\n",
      "\n",
      "avg / total       1.00      0.94      0.97       101\n",
      "\n",
      "9\n",
      "6.91 Seconds to train random forest...\n",
      "Test Accuracy of Random Forest =  0.2475\n"
     ]
    },
    {
     "name": "stderr",
     "output_type": "stream",
     "text": [
      "/home/rajat/.local/lib/python3.5/site-packages/sklearn/metrics/classification.py:1137: UndefinedMetricWarning: Recall and F-score are ill-defined and being set to 0.0 in labels with no true samples.\n",
      "  'recall', 'true', average, warn_for)\n"
     ]
    },
    {
     "name": "stdout",
     "output_type": "stream",
     "text": [
      "sensitivity for  Walk-Front\n",
      "             precision    recall  f1-score   support\n",
      "\n",
      "          1       0.00      0.00      0.00         0\n",
      "          3       0.00      0.00      0.00         0\n",
      "          5       0.00      0.00      0.00         0\n",
      "          8       0.00      0.00      0.00         0\n",
      "          9       1.00      0.25      0.40       101\n",
      "         10       0.00      0.00      0.00         0\n",
      "         11       0.00      0.00      0.00         0\n",
      "\n",
      "avg / total       1.00      0.25      0.40       101\n",
      "\n",
      "9\n",
      "6.62 Seconds to train random forest...\n",
      "Test Accuracy of Random Forest =  0.297\n"
     ]
    },
    {
     "name": "stderr",
     "output_type": "stream",
     "text": [
      "/home/rajat/.local/lib/python3.5/site-packages/sklearn/metrics/classification.py:1137: UndefinedMetricWarning: Recall and F-score are ill-defined and being set to 0.0 in labels with no true samples.\n",
      "  'recall', 'true', average, warn_for)\n"
     ]
    },
    {
     "name": "stdout",
     "output_type": "stream",
     "text": [
      "sensitivity for  Walk-Front\n",
      "             precision    recall  f1-score   support\n",
      "\n",
      "          1       0.00      0.00      0.00         0\n",
      "          6       0.00      0.00      0.00         0\n",
      "          9       1.00      0.30      0.46       101\n",
      "\n",
      "avg / total       1.00      0.30      0.46       101\n",
      "\n",
      "9\n",
      "6.44 Seconds to train random forest...\n",
      "Test Accuracy of Random Forest =  0.2277\n"
     ]
    },
    {
     "name": "stderr",
     "output_type": "stream",
     "text": [
      "/home/rajat/.local/lib/python3.5/site-packages/sklearn/metrics/classification.py:1137: UndefinedMetricWarning: Recall and F-score are ill-defined and being set to 0.0 in labels with no true samples.\n",
      "  'recall', 'true', average, warn_for)\n"
     ]
    },
    {
     "name": "stdout",
     "output_type": "stream",
     "text": [
      "sensitivity for  Walk-Front\n",
      "             precision    recall  f1-score   support\n",
      "\n",
      "          0       0.00      0.00      0.00         0\n",
      "          2       0.00      0.00      0.00         0\n",
      "          3       0.00      0.00      0.00         0\n",
      "          4       0.00      0.00      0.00         0\n",
      "          5       0.00      0.00      0.00         0\n",
      "          9       1.00      0.23      0.37       101\n",
      "         10       0.00      0.00      0.00         0\n",
      "         11       0.00      0.00      0.00         0\n",
      "         12       0.00      0.00      0.00         0\n",
      "\n",
      "avg / total       1.00      0.23      0.37       101\n",
      "\n",
      "9\n",
      "8.47 Seconds to train random forest...\n",
      "Test Accuracy of Random Forest =  0.6634\n"
     ]
    },
    {
     "name": "stderr",
     "output_type": "stream",
     "text": [
      "/home/rajat/.local/lib/python3.5/site-packages/sklearn/metrics/classification.py:1137: UndefinedMetricWarning: Recall and F-score are ill-defined and being set to 0.0 in labels with no true samples.\n",
      "  'recall', 'true', average, warn_for)\n"
     ]
    },
    {
     "name": "stdout",
     "output_type": "stream",
     "text": [
      "sensitivity for  Walk-Front\n",
      "             precision    recall  f1-score   support\n",
      "\n",
      "          9       1.00      0.66      0.80       101\n",
      "         11       0.00      0.00      0.00         0\n",
      "\n",
      "avg / total       1.00      0.66      0.80       101\n",
      "\n",
      "9\n",
      "6.4 Seconds to train random forest...\n",
      "Test Accuracy of Random Forest =  0.85\n"
     ]
    },
    {
     "name": "stderr",
     "output_type": "stream",
     "text": [
      "/home/rajat/.local/lib/python3.5/site-packages/sklearn/metrics/classification.py:1137: UndefinedMetricWarning: Recall and F-score are ill-defined and being set to 0.0 in labels with no true samples.\n",
      "  'recall', 'true', average, warn_for)\n"
     ]
    },
    {
     "name": "stdout",
     "output_type": "stream",
     "text": [
      "sensitivity for  Golf-Swing-Back\n",
      "             precision    recall  f1-score   support\n",
      "\n",
      "          2       1.00      0.85      0.92        60\n",
      "          3       0.00      0.00      0.00         0\n",
      "          9       0.00      0.00      0.00         0\n",
      "\n",
      "avg / total       1.00      0.85      0.92        60\n",
      "\n",
      "2\n",
      "6.59 Seconds to train random forest...\n",
      "Test Accuracy of Random Forest =  0.0\n"
     ]
    },
    {
     "name": "stderr",
     "output_type": "stream",
     "text": [
      "/home/rajat/.local/lib/python3.5/site-packages/sklearn/metrics/classification.py:1135: UndefinedMetricWarning: Precision and F-score are ill-defined and being set to 0.0 in labels with no predicted samples.\n",
      "  'precision', 'predicted', average, warn_for)\n",
      "/home/rajat/.local/lib/python3.5/site-packages/sklearn/metrics/classification.py:1137: UndefinedMetricWarning: Recall and F-score are ill-defined and being set to 0.0 in labels with no true samples.\n",
      "  'recall', 'true', average, warn_for)\n"
     ]
    },
    {
     "name": "stdout",
     "output_type": "stream",
     "text": [
      "sensitivity for  Golf-Swing-Back\n",
      "             precision    recall  f1-score   support\n",
      "\n",
      "          1       0.00      0.00      0.00         0\n",
      "          2       0.00      0.00      0.00        60\n",
      "\n",
      "avg / total       0.00      0.00      0.00        60\n",
      "\n",
      "2\n",
      "7.16 Seconds to train random forest...\n",
      "Test Accuracy of Random Forest =  0.0333\n",
      "sensitivity for "
     ]
    },
    {
     "name": "stderr",
     "output_type": "stream",
     "text": [
      "/home/rajat/.local/lib/python3.5/site-packages/sklearn/metrics/classification.py:1137: UndefinedMetricWarning: Recall and F-score are ill-defined and being set to 0.0 in labels with no true samples.\n",
      "  'recall', 'true', average, warn_for)\n"
     ]
    },
    {
     "name": "stdout",
     "output_type": "stream",
     "text": [
      " Golf-Swing-Back\n",
      "             precision    recall  f1-score   support\n",
      "\n",
      "          1       0.00      0.00      0.00         0\n",
      "          2       1.00      0.03      0.06        60\n",
      "          3       0.00      0.00      0.00         0\n",
      "          4       0.00      0.00      0.00         0\n",
      "          9       0.00      0.00      0.00         0\n",
      "         10       0.00      0.00      0.00         0\n",
      "         11       0.00      0.00      0.00         0\n",
      "         12       0.00      0.00      0.00         0\n",
      "\n",
      "avg / total       1.00      0.03      0.06        60\n",
      "\n",
      "2\n",
      "6.71 Seconds to train random forest...\n",
      "Test Accuracy of Random Forest =  0.0\n"
     ]
    },
    {
     "name": "stderr",
     "output_type": "stream",
     "text": [
      "/home/rajat/.local/lib/python3.5/site-packages/sklearn/metrics/classification.py:1135: UndefinedMetricWarning: Precision and F-score are ill-defined and being set to 0.0 in labels with no predicted samples.\n",
      "  'precision', 'predicted', average, warn_for)\n",
      "/home/rajat/.local/lib/python3.5/site-packages/sklearn/metrics/classification.py:1137: UndefinedMetricWarning: Recall and F-score are ill-defined and being set to 0.0 in labels with no true samples.\n",
      "  'recall', 'true', average, warn_for)\n"
     ]
    },
    {
     "name": "stdout",
     "output_type": "stream",
     "text": [
      "sensitivity for  Golf-Swing-Back\n",
      "             precision    recall  f1-score   support\n",
      "\n",
      "          2       0.00      0.00      0.00        60\n",
      "          3       0.00      0.00      0.00         0\n",
      "          9       0.00      0.00      0.00         0\n",
      "\n",
      "avg / total       0.00      0.00      0.00        60\n",
      "\n",
      "2\n",
      "6.47 Seconds to train random forest...\n",
      "Test Accuracy of Random Forest =  0.7\n"
     ]
    },
    {
     "name": "stderr",
     "output_type": "stream",
     "text": [
      "/home/rajat/.local/lib/python3.5/site-packages/sklearn/metrics/classification.py:1137: UndefinedMetricWarning: Recall and F-score are ill-defined and being set to 0.0 in labels with no true samples.\n",
      "  'recall', 'true', average, warn_for)\n"
     ]
    },
    {
     "name": "stdout",
     "output_type": "stream",
     "text": [
      "sensitivity for  Golf-Swing-Back\n",
      "             precision    recall  f1-score   support\n",
      "\n",
      "          2       1.00      0.70      0.82        60\n",
      "          3       0.00      0.00      0.00         0\n",
      "          4       0.00      0.00      0.00         0\n",
      "          9       0.00      0.00      0.00         0\n",
      "         10       0.00      0.00      0.00         0\n",
      "\n",
      "avg / total       1.00      0.70      0.82        60\n",
      "\n",
      "2\n",
      "6.59 Seconds to train random forest...\n",
      "Test Accuracy of Random Forest =  0.96\n"
     ]
    },
    {
     "name": "stderr",
     "output_type": "stream",
     "text": [
      "/home/rajat/.local/lib/python3.5/site-packages/sklearn/metrics/classification.py:1137: UndefinedMetricWarning: Recall and F-score are ill-defined and being set to 0.0 in labels with no true samples.\n",
      "  'recall', 'true', average, warn_for)\n"
     ]
    },
    {
     "name": "stdout",
     "output_type": "stream",
     "text": [
      "sensitivity for  Swing-Bench\n",
      "             precision    recall  f1-score   support\n",
      "\n",
      "          1       0.00      0.00      0.00         0\n",
      "          5       1.00      0.96      0.98        50\n",
      "\n",
      "avg / total       1.00      0.96      0.98        50\n",
      "\n",
      "5\n",
      "8.81 Seconds to train random forest...\n",
      "Test Accuracy of Random Forest =  0.0\n"
     ]
    },
    {
     "name": "stderr",
     "output_type": "stream",
     "text": [
      "/home/rajat/.local/lib/python3.5/site-packages/sklearn/metrics/classification.py:1135: UndefinedMetricWarning: Precision and F-score are ill-defined and being set to 0.0 in labels with no predicted samples.\n",
      "  'precision', 'predicted', average, warn_for)\n",
      "/home/rajat/.local/lib/python3.5/site-packages/sklearn/metrics/classification.py:1137: UndefinedMetricWarning: Recall and F-score are ill-defined and being set to 0.0 in labels with no true samples.\n",
      "  'recall', 'true', average, warn_for)\n"
     ]
    },
    {
     "name": "stdout",
     "output_type": "stream",
     "text": [
      "sensitivity for  Swing-Bench\n",
      "             precision    recall  f1-score   support\n",
      "\n",
      "          3       0.00      0.00      0.00         0\n",
      "          5       0.00      0.00      0.00        50\n",
      "          8       0.00      0.00      0.00         0\n",
      "          9       0.00      0.00      0.00         0\n",
      "         11       0.00      0.00      0.00         0\n",
      "\n",
      "avg / total       0.00      0.00      0.00        50\n",
      "\n",
      "5\n",
      "6.56 Seconds to train random forest...\n",
      "Test Accuracy of Random Forest =  0.88\n"
     ]
    },
    {
     "name": "stderr",
     "output_type": "stream",
     "text": [
      "/home/rajat/.local/lib/python3.5/site-packages/sklearn/metrics/classification.py:1137: UndefinedMetricWarning: Recall and F-score are ill-defined and being set to 0.0 in labels with no true samples.\n",
      "  'recall', 'true', average, warn_for)\n"
     ]
    },
    {
     "name": "stdout",
     "output_type": "stream",
     "text": [
      "sensitivity for  Swing-Bench\n",
      "             precision    recall  f1-score   support\n",
      "\n",
      "          1       0.00      0.00      0.00         0\n",
      "          5       1.00      0.88      0.94        50\n",
      "          9       0.00      0.00      0.00         0\n",
      "\n",
      "avg / total       1.00      0.88      0.94        50\n",
      "\n",
      "5\n",
      "6.71 Seconds to train random forest...\n",
      "Test Accuracy of Random Forest =  0.84\n"
     ]
    },
    {
     "name": "stderr",
     "output_type": "stream",
     "text": [
      "/home/rajat/.local/lib/python3.5/site-packages/sklearn/metrics/classification.py:1137: UndefinedMetricWarning: Recall and F-score are ill-defined and being set to 0.0 in labels with no true samples.\n",
      "  'recall', 'true', average, warn_for)\n"
     ]
    },
    {
     "name": "stdout",
     "output_type": "stream",
     "text": [
      "sensitivity for  Swing-Bench\n",
      "             precision    recall  f1-score   support\n",
      "\n",
      "          1       0.00      0.00      0.00         0\n",
      "          5       1.00      0.84      0.91        50\n",
      "\n",
      "avg / total       1.00      0.84      0.91        50\n",
      "\n",
      "5\n",
      "8.06 Seconds to train random forest...\n",
      "Test Accuracy of Random Forest =  1.0\n",
      "sensitivity for  Swing-Bench\n",
      "             precision    recall  f1-score   support\n",
      "\n",
      "          5       1.00      1.00      1.00        50\n",
      "\n",
      "avg / total       1.00      1.00      1.00        50\n",
      "\n",
      "5\n",
      "6.96 Seconds to train random forest...\n",
      "Test Accuracy of Random Forest =  0.08\n"
     ]
    },
    {
     "name": "stderr",
     "output_type": "stream",
     "text": [
      "/home/rajat/.local/lib/python3.5/site-packages/sklearn/metrics/classification.py:1137: UndefinedMetricWarning: Recall and F-score are ill-defined and being set to 0.0 in labels with no true samples.\n",
      "  'recall', 'true', average, warn_for)\n"
     ]
    },
    {
     "name": "stdout",
     "output_type": "stream",
     "text": [
      "sensitivity for  Swing-Bench\n",
      "             precision    recall  f1-score   support\n",
      "\n",
      "          1       0.00      0.00      0.00         0\n",
      "          3       0.00      0.00      0.00         0\n",
      "          4       0.00      0.00      0.00         0\n",
      "          5       1.00      0.08      0.15        50\n",
      "          8       0.00      0.00      0.00         0\n",
      "          9       0.00      0.00      0.00         0\n",
      "         10       0.00      0.00      0.00         0\n",
      "         11       0.00      0.00      0.00         0\n",
      "\n",
      "avg / total       1.00      0.08      0.15        50\n",
      "\n",
      "5\n",
      "6.47 Seconds to train random forest...\n",
      "Test Accuracy of Random Forest =  0.96\n"
     ]
    },
    {
     "name": "stderr",
     "output_type": "stream",
     "text": [
      "/home/rajat/.local/lib/python3.5/site-packages/sklearn/metrics/classification.py:1137: UndefinedMetricWarning: Recall and F-score are ill-defined and being set to 0.0 in labels with no true samples.\n",
      "  'recall', 'true', average, warn_for)\n"
     ]
    },
    {
     "name": "stdout",
     "output_type": "stream",
     "text": [
      "sensitivity for  Swing-Bench\n",
      "             precision    recall  f1-score   support\n",
      "\n",
      "          1       0.00      0.00      0.00         0\n",
      "          5       1.00      0.96      0.98        50\n",
      "          9       0.00      0.00      0.00         0\n",
      "\n",
      "avg / total       1.00      0.96      0.98        50\n",
      "\n",
      "5\n",
      "6.48 Seconds to train random forest...\n",
      "Test Accuracy of Random Forest =  1.0\n",
      "sensitivity for  Swing-Bench\n",
      "             precision    recall  f1-score   support\n",
      "\n",
      "          5       1.00      1.00      1.00        50\n",
      "\n",
      "avg / total       1.00      1.00      1.00        50\n",
      "\n",
      "5\n",
      "7.47 Seconds to train random forest...\n",
      "Test Accuracy of Random Forest =  0.94\n"
     ]
    },
    {
     "name": "stderr",
     "output_type": "stream",
     "text": [
      "/home/rajat/.local/lib/python3.5/site-packages/sklearn/metrics/classification.py:1137: UndefinedMetricWarning: Recall and F-score are ill-defined and being set to 0.0 in labels with no true samples.\n",
      "  'recall', 'true', average, warn_for)\n"
     ]
    },
    {
     "name": "stdout",
     "output_type": "stream",
     "text": [
      "sensitivity for  Swing-Bench\n",
      "             precision    recall  f1-score   support\n",
      "\n",
      "          1       0.00      0.00      0.00         0\n",
      "          5       1.00      0.94      0.97        50\n",
      "          9       0.00      0.00      0.00         0\n",
      "         11       0.00      0.00      0.00         0\n",
      "\n",
      "avg / total       1.00      0.94      0.97        50\n",
      "\n",
      "5\n",
      "6.43 Seconds to train random forest...\n",
      "Test Accuracy of Random Forest =  0.34\n"
     ]
    },
    {
     "name": "stderr",
     "output_type": "stream",
     "text": [
      "/home/rajat/.local/lib/python3.5/site-packages/sklearn/metrics/classification.py:1137: UndefinedMetricWarning: Recall and F-score are ill-defined and being set to 0.0 in labels with no true samples.\n",
      "  'recall', 'true', average, warn_for)\n"
     ]
    },
    {
     "name": "stdout",
     "output_type": "stream",
     "text": [
      "sensitivity for  Swing-Bench\n",
      "             precision    recall  f1-score   support\n",
      "\n",
      "          1       0.00      0.00      0.00         0\n",
      "          5       1.00      0.34      0.51        50\n",
      "          9       0.00      0.00      0.00         0\n",
      "\n",
      "avg / total       1.00      0.34      0.51        50\n",
      "\n",
      "5\n",
      "6.43 Seconds to train random forest...\n",
      "Test Accuracy of Random Forest =  0.98\n"
     ]
    },
    {
     "name": "stderr",
     "output_type": "stream",
     "text": [
      "/home/rajat/.local/lib/python3.5/site-packages/sklearn/metrics/classification.py:1137: UndefinedMetricWarning: Recall and F-score are ill-defined and being set to 0.0 in labels with no true samples.\n",
      "  'recall', 'true', average, warn_for)\n"
     ]
    },
    {
     "name": "stdout",
     "output_type": "stream",
     "text": [
      "sensitivity for  Swing-Bench\n",
      "             precision    recall  f1-score   support\n",
      "\n",
      "          1       0.00      0.00      0.00         0\n",
      "          5       1.00      0.98      0.99        50\n",
      "\n",
      "avg / total       1.00      0.98      0.99        50\n",
      "\n",
      "5\n",
      "10.04 Seconds to train random forest...\n",
      "Test Accuracy of Random Forest =  1.0\n",
      "sensitivity for  Swing-Bench\n",
      "             precision    recall  f1-score   support\n",
      "\n",
      "          5       1.00      1.00      1.00        50\n",
      "\n",
      "avg / total       1.00      1.00      1.00        50\n",
      "\n",
      "5\n",
      "6.35 Seconds to train random forest...\n",
      "Test Accuracy of Random Forest =  1.0\n",
      "sensitivity for  Swing-Bench\n",
      "             precision    recall  f1-score   support\n",
      "\n",
      "          5       1.00      1.00      1.00        50\n",
      "\n",
      "avg / total       1.00      1.00      1.00        50\n",
      "\n",
      "5\n",
      "6.35 Seconds to train random forest...\n",
      "Test Accuracy of Random Forest =  0.44\n"
     ]
    },
    {
     "name": "stderr",
     "output_type": "stream",
     "text": [
      "/home/rajat/.local/lib/python3.5/site-packages/sklearn/metrics/classification.py:1137: UndefinedMetricWarning: Recall and F-score are ill-defined and being set to 0.0 in labels with no true samples.\n",
      "  'recall', 'true', average, warn_for)\n"
     ]
    },
    {
     "name": "stdout",
     "output_type": "stream",
     "text": [
      "sensitivity for  Swing-Bench\n",
      "             precision    recall  f1-score   support\n",
      "\n",
      "          1       0.00      0.00      0.00         0\n",
      "          5       1.00      0.44      0.61        50\n",
      "          8       0.00      0.00      0.00         0\n",
      "\n",
      "avg / total       1.00      0.44      0.61        50\n",
      "\n",
      "5\n",
      "6.36 Seconds to train random forest...\n",
      "Test Accuracy of Random Forest =  0.9\n"
     ]
    },
    {
     "name": "stderr",
     "output_type": "stream",
     "text": [
      "/home/rajat/.local/lib/python3.5/site-packages/sklearn/metrics/classification.py:1137: UndefinedMetricWarning: Recall and F-score are ill-defined and being set to 0.0 in labels with no true samples.\n",
      "  'recall', 'true', average, warn_for)\n"
     ]
    },
    {
     "name": "stdout",
     "output_type": "stream",
     "text": [
      "sensitivity for  Swing-Bench\n",
      "             precision    recall  f1-score   support\n",
      "\n",
      "          1       0.00      0.00      0.00         0\n",
      "          5       1.00      0.90      0.95        50\n",
      "\n",
      "avg / total       1.00      0.90      0.95        50\n",
      "\n",
      "5\n",
      "6.38 Seconds to train random forest...\n",
      "Test Accuracy of Random Forest =  0.96\n"
     ]
    },
    {
     "name": "stderr",
     "output_type": "stream",
     "text": [
      "/home/rajat/.local/lib/python3.5/site-packages/sklearn/metrics/classification.py:1137: UndefinedMetricWarning: Recall and F-score are ill-defined and being set to 0.0 in labels with no true samples.\n",
      "  'recall', 'true', average, warn_for)\n"
     ]
    },
    {
     "name": "stdout",
     "output_type": "stream",
     "text": [
      "sensitivity for  Swing-Bench\n",
      "             precision    recall  f1-score   support\n",
      "\n",
      "          1       0.00      0.00      0.00         0\n",
      "          5       1.00      0.96      0.98        50\n",
      "\n",
      "avg / total       1.00      0.96      0.98        50\n",
      "\n",
      "5\n",
      "6.99 Seconds to train random forest...\n",
      "Test Accuracy of Random Forest =  0.2\n",
      "sensitivity for "
     ]
    },
    {
     "name": "stderr",
     "output_type": "stream",
     "text": [
      "/home/rajat/.local/lib/python3.5/site-packages/sklearn/metrics/classification.py:1137: UndefinedMetricWarning: Recall and F-score are ill-defined and being set to 0.0 in labels with no true samples.\n",
      "  'recall', 'true', average, warn_for)\n"
     ]
    },
    {
     "name": "stdout",
     "output_type": "stream",
     "text": [
      " Swing-Bench\n",
      "             precision    recall  f1-score   support\n",
      "\n",
      "          1       0.00      0.00      0.00         0\n",
      "          3       0.00      0.00      0.00         0\n",
      "          5       1.00      0.20      0.33        50\n",
      "          8       0.00      0.00      0.00         0\n",
      "          9       0.00      0.00      0.00         0\n",
      "         10       0.00      0.00      0.00         0\n",
      "         11       0.00      0.00      0.00         0\n",
      "\n",
      "avg / total       1.00      0.20      0.33        50\n",
      "\n",
      "5\n",
      "6.64 Seconds to train random forest...\n",
      "Test Accuracy of Random Forest =  0.58\n"
     ]
    },
    {
     "name": "stderr",
     "output_type": "stream",
     "text": [
      "/home/rajat/.local/lib/python3.5/site-packages/sklearn/metrics/classification.py:1137: UndefinedMetricWarning: Recall and F-score are ill-defined and being set to 0.0 in labels with no true samples.\n",
      "  'recall', 'true', average, warn_for)\n"
     ]
    },
    {
     "name": "stdout",
     "output_type": "stream",
     "text": [
      "sensitivity for  Swing-Bench\n",
      "             precision    recall  f1-score   support\n",
      "\n",
      "          1       0.00      0.00      0.00         0\n",
      "          3       0.00      0.00      0.00         0\n",
      "          5       1.00      0.58      0.73        50\n",
      "          8       0.00      0.00      0.00         0\n",
      "\n",
      "avg / total       1.00      0.58      0.73        50\n",
      "\n",
      "5\n",
      "6.85 Seconds to train random forest...\n",
      "Test Accuracy of Random Forest =  0.94\n",
      "sensitivity for  Swing-Bench"
     ]
    },
    {
     "name": "stderr",
     "output_type": "stream",
     "text": [
      "/home/rajat/.local/lib/python3.5/site-packages/sklearn/metrics/classification.py:1137: UndefinedMetricWarning: Recall and F-score are ill-defined and being set to 0.0 in labels with no true samples.\n",
      "  'recall', 'true', average, warn_for)\n"
     ]
    },
    {
     "name": "stdout",
     "output_type": "stream",
     "text": [
      "\n",
      "             precision    recall  f1-score   support\n",
      "\n",
      "          1       0.00      0.00      0.00         0\n",
      "          5       1.00      0.94      0.97        50\n",
      "          8       0.00      0.00      0.00         0\n",
      "\n",
      "avg / total       1.00      0.94      0.97        50\n",
      "\n",
      "5\n",
      "6.15 Seconds to train random forest...\n",
      "Test Accuracy of Random Forest =  0.72\n"
     ]
    },
    {
     "name": "stderr",
     "output_type": "stream",
     "text": [
      "/home/rajat/.local/lib/python3.5/site-packages/sklearn/metrics/classification.py:1137: UndefinedMetricWarning: Recall and F-score are ill-defined and being set to 0.0 in labels with no true samples.\n",
      "  'recall', 'true', average, warn_for)\n"
     ]
    },
    {
     "name": "stdout",
     "output_type": "stream",
     "text": [
      "sensitivity for  Swing-Bench\n",
      "             precision    recall  f1-score   support\n",
      "\n",
      "          1       0.00      0.00      0.00         0\n",
      "          5       1.00      0.72      0.84        50\n",
      "          9       0.00      0.00      0.00         0\n",
      "\n",
      "avg / total       1.00      0.72      0.84        50\n",
      "\n",
      "5\n",
      "6.39 Seconds to train random forest...\n",
      "Test Accuracy of Random Forest =  0.0\n"
     ]
    },
    {
     "name": "stderr",
     "output_type": "stream",
     "text": [
      "/home/rajat/.local/lib/python3.5/site-packages/sklearn/metrics/classification.py:1135: UndefinedMetricWarning: Precision and F-score are ill-defined and being set to 0.0 in labels with no predicted samples.\n",
      "  'precision', 'predicted', average, warn_for)\n",
      "/home/rajat/.local/lib/python3.5/site-packages/sklearn/metrics/classification.py:1137: UndefinedMetricWarning: Recall and F-score are ill-defined and being set to 0.0 in labels with no true samples.\n",
      "  'recall', 'true', average, warn_for)\n"
     ]
    },
    {
     "name": "stdout",
     "output_type": "stream",
     "text": [
      "sensitivity for  Run-Side\n",
      "             precision    recall  f1-score   support\n",
      "\n",
      "          3       0.00      0.00      0.00        65\n",
      "         11       0.00      0.00      0.00         0\n",
      "\n",
      "avg / total       0.00      0.00      0.00        65\n",
      "\n",
      "3\n",
      "6.14 Seconds to train random forest...\n",
      "Test Accuracy of Random Forest =  0.0\n",
      "sensitivity for  "
     ]
    },
    {
     "name": "stderr",
     "output_type": "stream",
     "text": [
      "/home/rajat/.local/lib/python3.5/site-packages/sklearn/metrics/classification.py:1135: UndefinedMetricWarning: Precision and F-score are ill-defined and being set to 0.0 in labels with no predicted samples.\n",
      "  'precision', 'predicted', average, warn_for)\n",
      "/home/rajat/.local/lib/python3.5/site-packages/sklearn/metrics/classification.py:1137: UndefinedMetricWarning: Recall and F-score are ill-defined and being set to 0.0 in labels with no true samples.\n",
      "  'recall', 'true', average, warn_for)\n"
     ]
    },
    {
     "name": "stdout",
     "output_type": "stream",
     "text": [
      "Run-Side\n",
      "             precision    recall  f1-score   support\n",
      "\n",
      "          1       0.00      0.00      0.00         0\n",
      "          3       0.00      0.00      0.00        65\n",
      "          5       0.00      0.00      0.00         0\n",
      "          8       0.00      0.00      0.00         0\n",
      "          9       0.00      0.00      0.00         0\n",
      "         10       0.00      0.00      0.00         0\n",
      "         11       0.00      0.00      0.00         0\n",
      "\n",
      "avg / total       0.00      0.00      0.00        65\n",
      "\n",
      "3\n",
      "6.23 Seconds to train random forest...\n",
      "Test Accuracy of Random Forest =  0.6\n",
      "sensitivity for "
     ]
    },
    {
     "name": "stderr",
     "output_type": "stream",
     "text": [
      "/home/rajat/.local/lib/python3.5/site-packages/sklearn/metrics/classification.py:1137: UndefinedMetricWarning: Recall and F-score are ill-defined and being set to 0.0 in labels with no true samples.\n",
      "  'recall', 'true', average, warn_for)\n"
     ]
    },
    {
     "name": "stdout",
     "output_type": "stream",
     "text": [
      " Run-Side\n",
      "             precision    recall  f1-score   support\n",
      "\n",
      "          1       0.00      0.00      0.00         0\n",
      "          3       1.00      0.60      0.75        65\n",
      "          5       0.00      0.00      0.00         0\n",
      "          9       0.00      0.00      0.00         0\n",
      "\n",
      "avg / total       1.00      0.60      0.75        65\n",
      "\n",
      "3\n",
      "6.35 Seconds to train random forest...\n",
      "Test Accuracy of Random Forest =  0.0308\n"
     ]
    },
    {
     "name": "stderr",
     "output_type": "stream",
     "text": [
      "/home/rajat/.local/lib/python3.5/site-packages/sklearn/metrics/classification.py:1137: UndefinedMetricWarning: Recall and F-score are ill-defined and being set to 0.0 in labels with no true samples.\n",
      "  'recall', 'true', average, warn_for)\n"
     ]
    },
    {
     "name": "stdout",
     "output_type": "stream",
     "text": [
      "sensitivity for  Run-Side\n",
      "             precision    recall  f1-score   support\n",
      "\n",
      "          3       1.00      0.03      0.06        65\n",
      "          4       0.00      0.00      0.00         0\n",
      "          9       0.00      0.00      0.00         0\n",
      "\n",
      "avg / total       1.00      0.03      0.06        65\n",
      "\n",
      "3\n",
      "6.68 Seconds to train random forest...\n",
      "Test Accuracy of Random Forest =  0.6462\n"
     ]
    },
    {
     "name": "stderr",
     "output_type": "stream",
     "text": [
      "/home/rajat/.local/lib/python3.5/site-packages/sklearn/metrics/classification.py:1137: UndefinedMetricWarning: Recall and F-score are ill-defined and being set to 0.0 in labels with no true samples.\n",
      "  'recall', 'true', average, warn_for)\n"
     ]
    },
    {
     "name": "stdout",
     "output_type": "stream",
     "text": [
      "sensitivity for  Run-Side\n",
      "             precision    recall  f1-score   support\n",
      "\n",
      "          1       0.00      0.00      0.00         0\n",
      "          3       1.00      0.65      0.79        65\n",
      "          5       0.00      0.00      0.00         0\n",
      "          8       0.00      0.00      0.00         0\n",
      "          9       0.00      0.00      0.00         0\n",
      "         10       0.00      0.00      0.00         0\n",
      "\n",
      "avg / total       1.00      0.65      0.79        65\n",
      "\n",
      "3\n",
      "6.54 Seconds to train random forest...\n",
      "Test Accuracy of Random Forest =  0.0615\n"
     ]
    },
    {
     "name": "stderr",
     "output_type": "stream",
     "text": [
      "/home/rajat/.local/lib/python3.5/site-packages/sklearn/metrics/classification.py:1137: UndefinedMetricWarning: Recall and F-score are ill-defined and being set to 0.0 in labels with no true samples.\n",
      "  'recall', 'true', average, warn_for)\n"
     ]
    },
    {
     "name": "stdout",
     "output_type": "stream",
     "text": [
      "sensitivity for  Run-Side\n",
      "             precision    recall  f1-score   support\n",
      "\n",
      "          1       0.00      0.00      0.00         0\n",
      "          2       0.00      0.00      0.00         0\n",
      "          3       1.00      0.06      0.12        65\n",
      "          4       0.00      0.00      0.00         0\n",
      "          9       0.00      0.00      0.00         0\n",
      "         10       0.00      0.00      0.00         0\n",
      "         11       0.00      0.00      0.00         0\n",
      "\n",
      "avg / total       1.00      0.06      0.12        65\n",
      "\n",
      "3\n",
      "6.5 Seconds to train random forest...\n",
      "Test Accuracy of Random Forest =  0.1846\n"
     ]
    },
    {
     "name": "stderr",
     "output_type": "stream",
     "text": [
      "/home/rajat/.local/lib/python3.5/site-packages/sklearn/metrics/classification.py:1137: UndefinedMetricWarning: Recall and F-score are ill-defined and being set to 0.0 in labels with no true samples.\n",
      "  'recall', 'true', average, warn_for)\n"
     ]
    },
    {
     "name": "stdout",
     "output_type": "stream",
     "text": [
      "sensitivity for  Run-Side\n",
      "             precision    recall  f1-score   support\n",
      "\n",
      "          1       0.00      0.00      0.00         0\n",
      "          3       1.00      0.18      0.31        65\n",
      "          5       0.00      0.00      0.00         0\n",
      "          8       0.00      0.00      0.00         0\n",
      "          9       0.00      0.00      0.00         0\n",
      "         10       0.00      0.00      0.00         0\n",
      "         11       0.00      0.00      0.00         0\n",
      "\n",
      "avg / total       1.00      0.18      0.31        65\n",
      "\n",
      "3\n",
      "6.22 Seconds to train random forest...\n",
      "Test Accuracy of Random Forest =  0.6308\n",
      "sensitivity for  "
     ]
    },
    {
     "name": "stderr",
     "output_type": "stream",
     "text": [
      "/home/rajat/.local/lib/python3.5/site-packages/sklearn/metrics/classification.py:1137: UndefinedMetricWarning: Recall and F-score are ill-defined and being set to 0.0 in labels with no true samples.\n",
      "  'recall', 'true', average, warn_for)\n"
     ]
    },
    {
     "name": "stdout",
     "output_type": "stream",
     "text": [
      "Run-Side\n",
      "             precision    recall  f1-score   support\n",
      "\n",
      "          1       0.00      0.00      0.00         0\n",
      "          3       1.00      0.63      0.77        65\n",
      "          5       0.00      0.00      0.00         0\n",
      "          9       0.00      0.00      0.00         0\n",
      "         10       0.00      0.00      0.00         0\n",
      "\n",
      "avg / total       1.00      0.63      0.77        65\n",
      "\n",
      "3\n",
      "6.13 Seconds to train random forest...\n",
      "Test Accuracy of Random Forest =  0.0462\n",
      "sensitivity for  "
     ]
    },
    {
     "name": "stderr",
     "output_type": "stream",
     "text": [
      "/home/rajat/.local/lib/python3.5/site-packages/sklearn/metrics/classification.py:1137: UndefinedMetricWarning: Recall and F-score are ill-defined and being set to 0.0 in labels with no true samples.\n",
      "  'recall', 'true', average, warn_for)\n"
     ]
    },
    {
     "name": "stdout",
     "output_type": "stream",
     "text": [
      "Run-Side\n",
      "             precision    recall  f1-score   support\n",
      "\n",
      "          1       0.00      0.00      0.00         0\n",
      "          2       0.00      0.00      0.00         0\n",
      "          3       1.00      0.05      0.09        65\n",
      "          5       0.00      0.00      0.00         0\n",
      "          9       0.00      0.00      0.00         0\n",
      "         10       0.00      0.00      0.00         0\n",
      "         11       0.00      0.00      0.00         0\n",
      "\n",
      "avg / total       1.00      0.05      0.09        65\n",
      "\n",
      "3\n",
      "6.1 Seconds to train random forest...\n",
      "Test Accuracy of Random Forest =  0.6615\n"
     ]
    },
    {
     "name": "stderr",
     "output_type": "stream",
     "text": [
      "/home/rajat/.local/lib/python3.5/site-packages/sklearn/metrics/classification.py:1137: UndefinedMetricWarning: Recall and F-score are ill-defined and being set to 0.0 in labels with no true samples.\n",
      "  'recall', 'true', average, warn_for)\n"
     ]
    },
    {
     "name": "stdout",
     "output_type": "stream",
     "text": [
      "sensitivity for  Run-Side\n",
      "             precision    recall  f1-score   support\n",
      "\n",
      "          1       0.00      0.00      0.00         0\n",
      "          3       1.00      0.66      0.80        65\n",
      "          5       0.00      0.00      0.00         0\n",
      "          9       0.00      0.00      0.00         0\n",
      "         10       0.00      0.00      0.00         0\n",
      "\n",
      "avg / total       1.00      0.66      0.80        65\n",
      "\n",
      "3\n",
      "6.16 Seconds to train random forest...\n",
      "Test Accuracy of Random Forest =  0.1077\n",
      "sensitivity for  "
     ]
    },
    {
     "name": "stderr",
     "output_type": "stream",
     "text": [
      "/home/rajat/.local/lib/python3.5/site-packages/sklearn/metrics/classification.py:1137: UndefinedMetricWarning: Recall and F-score are ill-defined and being set to 0.0 in labels with no true samples.\n",
      "  'recall', 'true', average, warn_for)\n"
     ]
    },
    {
     "name": "stdout",
     "output_type": "stream",
     "text": [
      "Run-Side\n",
      "             precision    recall  f1-score   support\n",
      "\n",
      "          3       1.00      0.11      0.19        65\n",
      "          9       0.00      0.00      0.00         0\n",
      "\n",
      "avg / total       1.00      0.11      0.19        65\n",
      "\n",
      "3\n",
      "6.17 Seconds to train random forest...\n",
      "Test Accuracy of Random Forest =  0.8154\n"
     ]
    },
    {
     "name": "stderr",
     "output_type": "stream",
     "text": [
      "/home/rajat/.local/lib/python3.5/site-packages/sklearn/metrics/classification.py:1137: UndefinedMetricWarning: Recall and F-score are ill-defined and being set to 0.0 in labels with no true samples.\n",
      "  'recall', 'true', average, warn_for)\n"
     ]
    },
    {
     "name": "stdout",
     "output_type": "stream",
     "text": [
      "sensitivity for  Run-Side\n",
      "             precision    recall  f1-score   support\n",
      "\n",
      "          1       0.00      0.00      0.00         0\n",
      "          3       1.00      0.82      0.90        65\n",
      "          9       0.00      0.00      0.00         0\n",
      "         10       0.00      0.00      0.00         0\n",
      "\n",
      "avg / total       1.00      0.82      0.90        65\n",
      "\n",
      "3\n",
      "6.31 Seconds to train random forest...\n",
      "Test Accuracy of Random Forest =  0.1231\n",
      "sensitivity for "
     ]
    },
    {
     "name": "stderr",
     "output_type": "stream",
     "text": [
      "/home/rajat/.local/lib/python3.5/site-packages/sklearn/metrics/classification.py:1137: UndefinedMetricWarning: Recall and F-score are ill-defined and being set to 0.0 in labels with no true samples.\n",
      "  'recall', 'true', average, warn_for)\n"
     ]
    },
    {
     "name": "stdout",
     "output_type": "stream",
     "text": [
      " Run-Side\n",
      "             precision    recall  f1-score   support\n",
      "\n",
      "          2       0.00      0.00      0.00         0\n",
      "          3       1.00      0.12      0.22        65\n",
      "          8       0.00      0.00      0.00         0\n",
      "          9       0.00      0.00      0.00         0\n",
      "         10       0.00      0.00      0.00         0\n",
      "         11       0.00      0.00      0.00         0\n",
      "\n",
      "avg / total       1.00      0.12      0.22        65\n",
      "\n",
      "3\n",
      "6.45 Seconds to train random forest...\n",
      "Test Accuracy of Random Forest =  0.9667\n",
      "sensitivity for "
     ]
    },
    {
     "name": "stderr",
     "output_type": "stream",
     "text": [
      "/home/rajat/.local/lib/python3.5/site-packages/sklearn/metrics/classification.py:1137: UndefinedMetricWarning: Recall and F-score are ill-defined and being set to 0.0 in labels with no true samples.\n",
      "  'recall', 'true', average, warn_for)\n"
     ]
    },
    {
     "name": "stdout",
     "output_type": "stream",
     "text": [
      " Riding-Horse\n",
      "             precision    recall  f1-score   support\n",
      "\n",
      "          9       0.00      0.00      0.00         0\n",
      "         10       1.00      0.97      0.98        60\n",
      "\n",
      "avg / total       1.00      0.97      0.98        60\n",
      "\n",
      "10\n",
      "6.55 Seconds to train random forest...\n",
      "Test Accuracy of Random Forest =  0.0\n"
     ]
    },
    {
     "name": "stderr",
     "output_type": "stream",
     "text": [
      "/home/rajat/.local/lib/python3.5/site-packages/sklearn/metrics/classification.py:1135: UndefinedMetricWarning: Precision and F-score are ill-defined and being set to 0.0 in labels with no predicted samples.\n",
      "  'precision', 'predicted', average, warn_for)\n",
      "/home/rajat/.local/lib/python3.5/site-packages/sklearn/metrics/classification.py:1137: UndefinedMetricWarning: Recall and F-score are ill-defined and being set to 0.0 in labels with no true samples.\n",
      "  'recall', 'true', average, warn_for)\n"
     ]
    },
    {
     "name": "stdout",
     "output_type": "stream",
     "text": [
      "sensitivity for  Riding-Horse\n",
      "             precision    recall  f1-score   support\n",
      "\n",
      "          1       0.00      0.00      0.00         0\n",
      "         10       0.00      0.00      0.00        60\n",
      "\n",
      "avg / total       0.00      0.00      0.00        60\n",
      "\n",
      "10\n",
      "6.49 Seconds to train random forest...\n",
      "Test Accuracy of Random Forest =  0.0333\n"
     ]
    },
    {
     "name": "stderr",
     "output_type": "stream",
     "text": [
      "/home/rajat/.local/lib/python3.5/site-packages/sklearn/metrics/classification.py:1137: UndefinedMetricWarning: Recall and F-score are ill-defined and being set to 0.0 in labels with no true samples.\n",
      "  'recall', 'true', average, warn_for)\n"
     ]
    },
    {
     "name": "stdout",
     "output_type": "stream",
     "text": [
      "sensitivity for  Riding-Horse\n",
      "             precision    recall  f1-score   support\n",
      "\n",
      "          1       0.00      0.00      0.00         0\n",
      "          3       0.00      0.00      0.00         0\n",
      "          5       0.00      0.00      0.00         0\n",
      "          8       0.00      0.00      0.00         0\n",
      "          9       0.00      0.00      0.00         0\n",
      "         10       1.00      0.03      0.06        60\n",
      "\n",
      "avg / total       1.00      0.03      0.06        60\n",
      "\n",
      "10\n",
      "6.4 Seconds to train random forest...\n",
      "Test Accuracy of Random Forest =  0.0333\n"
     ]
    },
    {
     "name": "stderr",
     "output_type": "stream",
     "text": [
      "/home/rajat/.local/lib/python3.5/site-packages/sklearn/metrics/classification.py:1137: UndefinedMetricWarning: Recall and F-score are ill-defined and being set to 0.0 in labels with no true samples.\n",
      "  'recall', 'true', average, warn_for)\n"
     ]
    },
    {
     "name": "stdout",
     "output_type": "stream",
     "text": [
      "sensitivity for  Riding-Horse\n",
      "             precision    recall  f1-score   support\n",
      "\n",
      "          9       0.00      0.00      0.00         0\n",
      "         10       1.00      0.03      0.06        60\n",
      "\n",
      "avg / total       1.00      0.03      0.06        60\n",
      "\n",
      "10\n",
      "6.39 Seconds to train random forest...\n",
      "Test Accuracy of Random Forest =  1.0\n",
      "sensitivity for  Riding-Horse\n",
      "             precision    recall  f1-score   support\n",
      "\n",
      "         10       1.00      1.00      1.00        60\n",
      "\n",
      "avg / total       1.00      1.00      1.00        60\n",
      "\n",
      "10\n",
      "6.35 Seconds to train random forest...\n",
      "Test Accuracy of Random Forest =  0.1\n"
     ]
    },
    {
     "name": "stderr",
     "output_type": "stream",
     "text": [
      "/home/rajat/.local/lib/python3.5/site-packages/sklearn/metrics/classification.py:1137: UndefinedMetricWarning: Recall and F-score are ill-defined and being set to 0.0 in labels with no true samples.\n",
      "  'recall', 'true', average, warn_for)\n"
     ]
    },
    {
     "name": "stdout",
     "output_type": "stream",
     "text": [
      "sensitivity for  Riding-Horse\n",
      "             precision    recall  f1-score   support\n",
      "\n",
      "          8       0.00      0.00      0.00         0\n",
      "          9       0.00      0.00      0.00         0\n",
      "         10       1.00      0.10      0.18        60\n",
      "\n",
      "avg / total       1.00      0.10      0.18        60\n",
      "\n",
      "10\n",
      "6.36 Seconds to train random forest...\n",
      "Test Accuracy of Random Forest =  0.2833\n",
      "sensitivity for "
     ]
    },
    {
     "name": "stderr",
     "output_type": "stream",
     "text": [
      "/home/rajat/.local/lib/python3.5/site-packages/sklearn/metrics/classification.py:1137: UndefinedMetricWarning: Recall and F-score are ill-defined and being set to 0.0 in labels with no true samples.\n",
      "  'recall', 'true', average, warn_for)\n"
     ]
    },
    {
     "name": "stdout",
     "output_type": "stream",
     "text": [
      " Riding-Horse\n",
      "             precision    recall  f1-score   support\n",
      "\n",
      "          1       0.00      0.00      0.00         0\n",
      "          3       0.00      0.00      0.00         0\n",
      "          5       0.00      0.00      0.00         0\n",
      "          8       0.00      0.00      0.00         0\n",
      "          9       0.00      0.00      0.00         0\n",
      "         10       1.00      0.28      0.44        60\n",
      "\n",
      "avg / total       1.00      0.28      0.44        60\n",
      "\n",
      "10\n",
      "6.36 Seconds to train random forest...\n",
      "Test Accuracy of Random Forest =  0.9333\n"
     ]
    },
    {
     "name": "stderr",
     "output_type": "stream",
     "text": [
      "/home/rajat/.local/lib/python3.5/site-packages/sklearn/metrics/classification.py:1137: UndefinedMetricWarning: Recall and F-score are ill-defined and being set to 0.0 in labels with no true samples.\n",
      "  'recall', 'true', average, warn_for)\n"
     ]
    },
    {
     "name": "stdout",
     "output_type": "stream",
     "text": [
      "sensitivity for  Riding-Horse\n",
      "             precision    recall  f1-score   support\n",
      "\n",
      "          1       0.00      0.00      0.00         0\n",
      "          3       0.00      0.00      0.00         0\n",
      "          9       0.00      0.00      0.00         0\n",
      "         10       1.00      0.93      0.97        60\n",
      "\n",
      "avg / total       1.00      0.93      0.97        60\n",
      "\n",
      "10\n",
      "6.37 Seconds to train random forest...\n",
      "Test Accuracy of Random Forest =  0.1\n"
     ]
    },
    {
     "name": "stderr",
     "output_type": "stream",
     "text": [
      "/home/rajat/.local/lib/python3.5/site-packages/sklearn/metrics/classification.py:1137: UndefinedMetricWarning: Recall and F-score are ill-defined and being set to 0.0 in labels with no true samples.\n",
      "  'recall', 'true', average, warn_for)\n"
     ]
    },
    {
     "name": "stdout",
     "output_type": "stream",
     "text": [
      "sensitivity for  Riding-Horse\n",
      "             precision    recall  f1-score   support\n",
      "\n",
      "          1       0.00      0.00      0.00         0\n",
      "          3       0.00      0.00      0.00         0\n",
      "          5       0.00      0.00      0.00         0\n",
      "          9       0.00      0.00      0.00         0\n",
      "         10       1.00      0.10      0.18        60\n",
      "         11       0.00      0.00      0.00         0\n",
      "\n",
      "avg / total       1.00      0.10      0.18        60\n",
      "\n",
      "10\n",
      "6.69 Seconds to train random forest...\n",
      "Test Accuracy of Random Forest =  0.3833\n",
      "sensitivity for "
     ]
    },
    {
     "name": "stderr",
     "output_type": "stream",
     "text": [
      "/home/rajat/.local/lib/python3.5/site-packages/sklearn/metrics/classification.py:1137: UndefinedMetricWarning: Recall and F-score are ill-defined and being set to 0.0 in labels with no true samples.\n",
      "  'recall', 'true', average, warn_for)\n"
     ]
    },
    {
     "name": "stdout",
     "output_type": "stream",
     "text": [
      " Riding-Horse\n",
      "             precision    recall  f1-score   support\n",
      "\n",
      "          3       0.00      0.00      0.00         0\n",
      "          9       0.00      0.00      0.00         0\n",
      "         10       1.00      0.38      0.55        60\n",
      "         11       0.00      0.00      0.00         0\n",
      "\n",
      "avg / total       1.00      0.38      0.55        60\n",
      "\n",
      "10\n",
      "6.66 Seconds to train random forest...\n",
      "Test Accuracy of Random Forest =  0.0667\n",
      "sensitivity for "
     ]
    },
    {
     "name": "stderr",
     "output_type": "stream",
     "text": [
      "/home/rajat/.local/lib/python3.5/site-packages/sklearn/metrics/classification.py:1137: UndefinedMetricWarning: Recall and F-score are ill-defined and being set to 0.0 in labels with no true samples.\n",
      "  'recall', 'true', average, warn_for)\n"
     ]
    },
    {
     "name": "stdout",
     "output_type": "stream",
     "text": [
      " Riding-Horse\n",
      "             precision    recall  f1-score   support\n",
      "\n",
      "          1       0.00      0.00      0.00         0\n",
      "          3       0.00      0.00      0.00         0\n",
      "          5       0.00      0.00      0.00         0\n",
      "          9       0.00      0.00      0.00         0\n",
      "         10       1.00      0.07      0.12        60\n",
      "\n",
      "avg / total       1.00      0.07      0.12        60\n",
      "\n",
      "10\n",
      "6.36 Seconds to train random forest...\n",
      "Test Accuracy of Random Forest =  0.9333\n"
     ]
    },
    {
     "name": "stderr",
     "output_type": "stream",
     "text": [
      "/home/rajat/.local/lib/python3.5/site-packages/sklearn/metrics/classification.py:1137: UndefinedMetricWarning: Recall and F-score are ill-defined and being set to 0.0 in labels with no true samples.\n",
      "  'recall', 'true', average, warn_for)\n"
     ]
    },
    {
     "name": "stdout",
     "output_type": "stream",
     "text": [
      "sensitivity for  Riding-Horse\n",
      "             precision    recall  f1-score   support\n",
      "\n",
      "          1       0.00      0.00      0.00         0\n",
      "          9       0.00      0.00      0.00         0\n",
      "         10       1.00      0.93      0.97        60\n",
      "\n",
      "avg / total       1.00      0.93      0.97        60\n",
      "\n",
      "10\n",
      "6.37 Seconds to train random forest...\n",
      "Test Accuracy of Random Forest =  0.9467\n"
     ]
    },
    {
     "name": "stderr",
     "output_type": "stream",
     "text": [
      "/home/rajat/.local/lib/python3.5/site-packages/sklearn/metrics/classification.py:1137: UndefinedMetricWarning: Recall and F-score are ill-defined and being set to 0.0 in labels with no true samples.\n",
      "  'recall', 'true', average, warn_for)\n"
     ]
    },
    {
     "name": "stdout",
     "output_type": "stream",
     "text": [
      "sensitivity for  Swing-SideAngle\n",
      "             precision    recall  f1-score   support\n",
      "\n",
      "          1       1.00      0.95      0.97        75\n",
      "          5       0.00      0.00      0.00         0\n",
      "          8       0.00      0.00      0.00         0\n",
      "\n",
      "avg / total       1.00      0.95      0.97        75\n",
      "\n",
      "1\n",
      "6.33 Seconds to train random forest...\n",
      "Test Accuracy of Random Forest =  0.96\n",
      "sensitivity for  Swing-SideAngle"
     ]
    },
    {
     "name": "stderr",
     "output_type": "stream",
     "text": [
      "/home/rajat/.local/lib/python3.5/site-packages/sklearn/metrics/classification.py:1137: UndefinedMetricWarning: Recall and F-score are ill-defined and being set to 0.0 in labels with no true samples.\n",
      "  'recall', 'true', average, warn_for)\n"
     ]
    },
    {
     "name": "stdout",
     "output_type": "stream",
     "text": [
      "\n",
      "             precision    recall  f1-score   support\n",
      "\n",
      "          1       1.00      0.96      0.98        75\n",
      "          3       0.00      0.00      0.00         0\n",
      "          5       0.00      0.00      0.00         0\n",
      "\n",
      "avg / total       1.00      0.96      0.98        75\n",
      "\n",
      "1\n",
      "6.55 Seconds to train random forest...\n",
      "Test Accuracy of Random Forest =  0.9333\n"
     ]
    },
    {
     "name": "stderr",
     "output_type": "stream",
     "text": [
      "/home/rajat/.local/lib/python3.5/site-packages/sklearn/metrics/classification.py:1137: UndefinedMetricWarning: Recall and F-score are ill-defined and being set to 0.0 in labels with no true samples.\n",
      "  'recall', 'true', average, warn_for)\n"
     ]
    },
    {
     "name": "stdout",
     "output_type": "stream",
     "text": [
      "sensitivity for  Swing-SideAngle\n",
      "             precision    recall  f1-score   support\n",
      "\n",
      "          1       1.00      0.93      0.97        75\n",
      "          3       0.00      0.00      0.00         0\n",
      "          5       0.00      0.00      0.00         0\n",
      "         12       0.00      0.00      0.00         0\n",
      "\n",
      "avg / total       1.00      0.93      0.97        75\n",
      "\n",
      "1\n",
      "6.39 Seconds to train random forest...\n",
      "Test Accuracy of Random Forest =  0.6133\n",
      "sensitivity for  Swing-SideAngle"
     ]
    },
    {
     "name": "stderr",
     "output_type": "stream",
     "text": [
      "/home/rajat/.local/lib/python3.5/site-packages/sklearn/metrics/classification.py:1137: UndefinedMetricWarning: Recall and F-score are ill-defined and being set to 0.0 in labels with no true samples.\n",
      "  'recall', 'true', average, warn_for)\n"
     ]
    },
    {
     "name": "stdout",
     "output_type": "stream",
     "text": [
      "\n",
      "             precision    recall  f1-score   support\n",
      "\n",
      "          1       1.00      0.61      0.76        75\n",
      "          5       0.00      0.00      0.00         0\n",
      "          9       0.00      0.00      0.00         0\n",
      "\n",
      "avg / total       1.00      0.61      0.76        75\n",
      "\n",
      "1\n",
      "6.4 Seconds to train random forest...\n",
      "Test Accuracy of Random Forest =  0.9733\n"
     ]
    },
    {
     "name": "stderr",
     "output_type": "stream",
     "text": [
      "/home/rajat/.local/lib/python3.5/site-packages/sklearn/metrics/classification.py:1137: UndefinedMetricWarning: Recall and F-score are ill-defined and being set to 0.0 in labels with no true samples.\n",
      "  'recall', 'true', average, warn_for)\n"
     ]
    },
    {
     "name": "stdout",
     "output_type": "stream",
     "text": [
      "sensitivity for  Swing-SideAngle\n",
      "             precision    recall  f1-score   support\n",
      "\n",
      "          1       1.00      0.97      0.99        75\n",
      "          5       0.00      0.00      0.00         0\n",
      "\n",
      "avg / total       1.00      0.97      0.99        75\n",
      "\n",
      "1\n",
      "6.4 Seconds to train random forest...\n",
      "Test Accuracy of Random Forest =  0.52\n"
     ]
    },
    {
     "name": "stderr",
     "output_type": "stream",
     "text": [
      "/home/rajat/.local/lib/python3.5/site-packages/sklearn/metrics/classification.py:1137: UndefinedMetricWarning: Recall and F-score are ill-defined and being set to 0.0 in labels with no true samples.\n",
      "  'recall', 'true', average, warn_for)\n"
     ]
    },
    {
     "name": "stdout",
     "output_type": "stream",
     "text": [
      "sensitivity for  Swing-SideAngle\n",
      "             precision    recall  f1-score   support\n",
      "\n",
      "          1       1.00      0.52      0.68        75\n",
      "          3       0.00      0.00      0.00         0\n",
      "          5       0.00      0.00      0.00         0\n",
      "          9       0.00      0.00      0.00         0\n",
      "         10       0.00      0.00      0.00         0\n",
      "         11       0.00      0.00      0.00         0\n",
      "\n",
      "avg / total       1.00      0.52      0.68        75\n",
      "\n",
      "1\n",
      "6.31 Seconds to train random forest...\n",
      "Test Accuracy of Random Forest =  0.8933\n"
     ]
    },
    {
     "name": "stderr",
     "output_type": "stream",
     "text": [
      "/home/rajat/.local/lib/python3.5/site-packages/sklearn/metrics/classification.py:1137: UndefinedMetricWarning: Recall and F-score are ill-defined and being set to 0.0 in labels with no true samples.\n",
      "  'recall', 'true', average, warn_for)\n"
     ]
    },
    {
     "name": "stdout",
     "output_type": "stream",
     "text": [
      "sensitivity for  Swing-SideAngle\n",
      "             precision    recall  f1-score   support\n",
      "\n",
      "          1       1.00      0.89      0.94        75\n",
      "          5       0.00      0.00      0.00         0\n",
      "          9       0.00      0.00      0.00         0\n",
      "         10       0.00      0.00      0.00         0\n",
      "\n",
      "avg / total       1.00      0.89      0.94        75\n",
      "\n",
      "1\n",
      "6.41 Seconds to train random forest...\n",
      "Test Accuracy of Random Forest =  0.9067\n",
      "sensitivity for  "
     ]
    },
    {
     "name": "stderr",
     "output_type": "stream",
     "text": [
      "/home/rajat/.local/lib/python3.5/site-packages/sklearn/metrics/classification.py:1137: UndefinedMetricWarning: Recall and F-score are ill-defined and being set to 0.0 in labels with no true samples.\n",
      "  'recall', 'true', average, warn_for)\n"
     ]
    },
    {
     "name": "stdout",
     "output_type": "stream",
     "text": [
      "Swing-SideAngle\n",
      "             precision    recall  f1-score   support\n",
      "\n",
      "          1       1.00      0.91      0.95        75\n",
      "          5       0.00      0.00      0.00         0\n",
      "          9       0.00      0.00      0.00         0\n",
      "\n",
      "avg / total       1.00      0.91      0.95        75\n",
      "\n",
      "1\n",
      "6.45 Seconds to train random forest...\n",
      "Test Accuracy of Random Forest =  0.76\n"
     ]
    },
    {
     "name": "stderr",
     "output_type": "stream",
     "text": [
      "/home/rajat/.local/lib/python3.5/site-packages/sklearn/metrics/classification.py:1137: UndefinedMetricWarning: Recall and F-score are ill-defined and being set to 0.0 in labels with no true samples.\n",
      "  'recall', 'true', average, warn_for)\n"
     ]
    },
    {
     "name": "stdout",
     "output_type": "stream",
     "text": [
      "sensitivity for  Swing-SideAngle\n",
      "             precision    recall  f1-score   support\n",
      "\n",
      "          1       1.00      0.76      0.86        75\n",
      "          5       0.00      0.00      0.00         0\n",
      "\n",
      "avg / total       1.00      0.76      0.86        75\n",
      "\n",
      "1\n",
      "6.58 Seconds to train random forest...\n",
      "Test Accuracy of Random Forest =  0.9867\n"
     ]
    },
    {
     "name": "stderr",
     "output_type": "stream",
     "text": [
      "/home/rajat/.local/lib/python3.5/site-packages/sklearn/metrics/classification.py:1137: UndefinedMetricWarning: Recall and F-score are ill-defined and being set to 0.0 in labels with no true samples.\n",
      "  'recall', 'true', average, warn_for)\n"
     ]
    },
    {
     "name": "stdout",
     "output_type": "stream",
     "text": [
      "sensitivity for  Swing-SideAngle\n",
      "             precision    recall  f1-score   support\n",
      "\n",
      "          1       1.00      0.99      0.99        75\n",
      "          5       0.00      0.00      0.00         0\n",
      "\n",
      "avg / total       1.00      0.99      0.99        75\n",
      "\n",
      "1\n",
      "6.47 Seconds to train random forest...\n",
      "Test Accuracy of Random Forest =  0.6667\n",
      "sensitivity for  "
     ]
    },
    {
     "name": "stderr",
     "output_type": "stream",
     "text": [
      "/home/rajat/.local/lib/python3.5/site-packages/sklearn/metrics/classification.py:1137: UndefinedMetricWarning: Recall and F-score are ill-defined and being set to 0.0 in labels with no true samples.\n",
      "  'recall', 'true', average, warn_for)\n"
     ]
    },
    {
     "name": "stdout",
     "output_type": "stream",
     "text": [
      "Swing-SideAngle\n",
      "             precision    recall  f1-score   support\n",
      "\n",
      "          1       1.00      0.67      0.80        75\n",
      "          3       0.00      0.00      0.00         0\n",
      "          5       0.00      0.00      0.00         0\n",
      "          9       0.00      0.00      0.00         0\n",
      "         10       0.00      0.00      0.00         0\n",
      "\n",
      "avg / total       1.00      0.67      0.80        75\n",
      "\n",
      "1\n",
      "6.29 Seconds to train random forest...\n",
      "Test Accuracy of Random Forest =  0.9333\n"
     ]
    },
    {
     "name": "stderr",
     "output_type": "stream",
     "text": [
      "/home/rajat/.local/lib/python3.5/site-packages/sklearn/metrics/classification.py:1137: UndefinedMetricWarning: Recall and F-score are ill-defined and being set to 0.0 in labels with no true samples.\n",
      "  'recall', 'true', average, warn_for)\n"
     ]
    },
    {
     "name": "stdout",
     "output_type": "stream",
     "text": [
      "sensitivity for  Swing-SideAngle\n",
      "             precision    recall  f1-score   support\n",
      "\n",
      "          1       1.00      0.93      0.97        75\n",
      "          3       0.00      0.00      0.00         0\n",
      "          5       0.00      0.00      0.00         0\n",
      "          8       0.00      0.00      0.00         0\n",
      "\n",
      "avg / total       1.00      0.93      0.97        75\n",
      "\n",
      "1\n",
      "6.38 Seconds to train random forest...\n",
      "Test Accuracy of Random Forest =  0.4\n"
     ]
    },
    {
     "name": "stderr",
     "output_type": "stream",
     "text": [
      "/home/rajat/.local/lib/python3.5/site-packages/sklearn/metrics/classification.py:1137: UndefinedMetricWarning: Recall and F-score are ill-defined and being set to 0.0 in labels with no true samples.\n",
      "  'recall', 'true', average, warn_for)\n"
     ]
    },
    {
     "name": "stdout",
     "output_type": "stream",
     "text": [
      "sensitivity for  Swing-SideAngle\n",
      "             precision    recall  f1-score   support\n",
      "\n",
      "          1       1.00      0.40      0.57        75\n",
      "          3       0.00      0.00      0.00         0\n",
      "          5       0.00      0.00      0.00         0\n",
      "          9       0.00      0.00      0.00         0\n",
      "         10       0.00      0.00      0.00         0\n",
      "         11       0.00      0.00      0.00         0\n",
      "\n",
      "avg / total       1.00      0.40      0.57        75\n",
      "\n",
      "1\n",
      "6.36 Seconds to train random forest...\n",
      "Test Accuracy of Random Forest =  0.0\n"
     ]
    },
    {
     "name": "stderr",
     "output_type": "stream",
     "text": [
      "/home/rajat/.local/lib/python3.5/site-packages/sklearn/metrics/classification.py:1135: UndefinedMetricWarning: Precision and F-score are ill-defined and being set to 0.0 in labels with no predicted samples.\n",
      "  'precision', 'predicted', average, warn_for)\n",
      "/home/rajat/.local/lib/python3.5/site-packages/sklearn/metrics/classification.py:1137: UndefinedMetricWarning: Recall and F-score are ill-defined and being set to 0.0 in labels with no true samples.\n",
      "  'recall', 'true', average, warn_for)\n"
     ]
    },
    {
     "name": "stdout",
     "output_type": "stream",
     "text": [
      "sensitivity for  Kicking-Front\n",
      "             precision    recall  f1-score   support\n",
      "\n",
      "          0       0.00      0.00      0.00        23\n",
      "          3       0.00      0.00      0.00         0\n",
      "          9       0.00      0.00      0.00         0\n",
      "\n",
      "avg / total       0.00      0.00      0.00        23\n",
      "\n",
      "0\n",
      "6.39 Seconds to train random forest...\n",
      "Test Accuracy of Random Forest =  0.0\n"
     ]
    },
    {
     "name": "stderr",
     "output_type": "stream",
     "text": [
      "/home/rajat/.local/lib/python3.5/site-packages/sklearn/metrics/classification.py:1135: UndefinedMetricWarning: Precision and F-score are ill-defined and being set to 0.0 in labels with no predicted samples.\n",
      "  'precision', 'predicted', average, warn_for)\n",
      "/home/rajat/.local/lib/python3.5/site-packages/sklearn/metrics/classification.py:1137: UndefinedMetricWarning: Recall and F-score are ill-defined and being set to 0.0 in labels with no true samples.\n",
      "  'recall', 'true', average, warn_for)\n"
     ]
    },
    {
     "name": "stdout",
     "output_type": "stream",
     "text": [
      "sensitivity for  Kicking-Front\n",
      "             precision    recall  f1-score   support\n",
      "\n",
      "          0       0.00      0.00      0.00        23\n",
      "          3       0.00      0.00      0.00         0\n",
      "          9       0.00      0.00      0.00         0\n",
      "         10       0.00      0.00      0.00         0\n",
      "\n",
      "avg / total       0.00      0.00      0.00        23\n",
      "\n",
      "0\n",
      "6.44 Seconds to train random forest...\n",
      "Test Accuracy of Random Forest =  0.0\n",
      "sensitivity for "
     ]
    },
    {
     "name": "stderr",
     "output_type": "stream",
     "text": [
      "/home/rajat/.local/lib/python3.5/site-packages/sklearn/metrics/classification.py:1135: UndefinedMetricWarning: Precision and F-score are ill-defined and being set to 0.0 in labels with no predicted samples.\n",
      "  'precision', 'predicted', average, warn_for)\n",
      "/home/rajat/.local/lib/python3.5/site-packages/sklearn/metrics/classification.py:1137: UndefinedMetricWarning: Recall and F-score are ill-defined and being set to 0.0 in labels with no true samples.\n",
      "  'recall', 'true', average, warn_for)\n"
     ]
    },
    {
     "name": "stdout",
     "output_type": "stream",
     "text": [
      " Kicking-Front\n",
      "             precision    recall  f1-score   support\n",
      "\n",
      "          0       0.00      0.00      0.00        23\n",
      "          3       0.00      0.00      0.00         0\n",
      "         10       0.00      0.00      0.00         0\n",
      "\n",
      "avg / total       0.00      0.00      0.00        23\n",
      "\n",
      "0\n",
      "6.32 Seconds to train random forest...\n",
      "Test Accuracy of Random Forest =  0.0\n"
     ]
    },
    {
     "name": "stderr",
     "output_type": "stream",
     "text": [
      "/home/rajat/.local/lib/python3.5/site-packages/sklearn/metrics/classification.py:1135: UndefinedMetricWarning: Precision and F-score are ill-defined and being set to 0.0 in labels with no predicted samples.\n",
      "  'precision', 'predicted', average, warn_for)\n",
      "/home/rajat/.local/lib/python3.5/site-packages/sklearn/metrics/classification.py:1137: UndefinedMetricWarning: Recall and F-score are ill-defined and being set to 0.0 in labels with no true samples.\n",
      "  'recall', 'true', average, warn_for)\n"
     ]
    },
    {
     "name": "stdout",
     "output_type": "stream",
     "text": [
      "sensitivity for  Kicking-Front\n",
      "             precision    recall  f1-score   support\n",
      "\n",
      "          0       0.00      0.00      0.00        23\n",
      "          4       0.00      0.00      0.00         0\n",
      "          9       0.00      0.00      0.00         0\n",
      "         10       0.00      0.00      0.00         0\n",
      "\n",
      "avg / total       0.00      0.00      0.00        23\n",
      "\n",
      "0\n",
      "6.49 Seconds to train random forest...\n",
      "Test Accuracy of Random Forest =  0.0\n"
     ]
    },
    {
     "name": "stderr",
     "output_type": "stream",
     "text": [
      "/home/rajat/.local/lib/python3.5/site-packages/sklearn/metrics/classification.py:1135: UndefinedMetricWarning: Precision and F-score are ill-defined and being set to 0.0 in labels with no predicted samples.\n",
      "  'precision', 'predicted', average, warn_for)\n",
      "/home/rajat/.local/lib/python3.5/site-packages/sklearn/metrics/classification.py:1137: UndefinedMetricWarning: Recall and F-score are ill-defined and being set to 0.0 in labels with no true samples.\n",
      "  'recall', 'true', average, warn_for)\n"
     ]
    },
    {
     "name": "stdout",
     "output_type": "stream",
     "text": [
      "sensitivity for  Kicking-Front\n",
      "             precision    recall  f1-score   support\n",
      "\n",
      "          0       0.00      0.00      0.00        23\n",
      "          1       0.00      0.00      0.00         0\n",
      "          2       0.00      0.00      0.00         0\n",
      "          3       0.00      0.00      0.00         0\n",
      "          5       0.00      0.00      0.00         0\n",
      "          9       0.00      0.00      0.00         0\n",
      "\n",
      "avg / total       0.00      0.00      0.00        23\n",
      "\n",
      "0\n",
      "6.62 Seconds to train random forest...\n",
      "Test Accuracy of Random Forest =  0.0\n"
     ]
    },
    {
     "name": "stderr",
     "output_type": "stream",
     "text": [
      "/home/rajat/.local/lib/python3.5/site-packages/sklearn/metrics/classification.py:1135: UndefinedMetricWarning: Precision and F-score are ill-defined and being set to 0.0 in labels with no predicted samples.\n",
      "  'precision', 'predicted', average, warn_for)\n",
      "/home/rajat/.local/lib/python3.5/site-packages/sklearn/metrics/classification.py:1137: UndefinedMetricWarning: Recall and F-score are ill-defined and being set to 0.0 in labels with no true samples.\n",
      "  'recall', 'true', average, warn_for)\n"
     ]
    },
    {
     "name": "stdout",
     "output_type": "stream",
     "text": [
      "sensitivity for  Kicking-Front\n",
      "             precision    recall  f1-score   support\n",
      "\n",
      "          0       0.00      0.00      0.00        23\n",
      "          3       0.00      0.00      0.00         0\n",
      "          9       0.00      0.00      0.00         0\n",
      "         10       0.00      0.00      0.00         0\n",
      "\n",
      "avg / total       0.00      0.00      0.00        23\n",
      "\n",
      "0\n",
      "6.4 Seconds to train random forest...\n",
      "Test Accuracy of Random Forest =  0.0\n"
     ]
    },
    {
     "name": "stderr",
     "output_type": "stream",
     "text": [
      "/home/rajat/.local/lib/python3.5/site-packages/sklearn/metrics/classification.py:1135: UndefinedMetricWarning: Precision and F-score are ill-defined and being set to 0.0 in labels with no predicted samples.\n",
      "  'precision', 'predicted', average, warn_for)\n",
      "/home/rajat/.local/lib/python3.5/site-packages/sklearn/metrics/classification.py:1137: UndefinedMetricWarning: Recall and F-score are ill-defined and being set to 0.0 in labels with no true samples.\n",
      "  'recall', 'true', average, warn_for)\n"
     ]
    },
    {
     "name": "stdout",
     "output_type": "stream",
     "text": [
      "sensitivity for  Kicking-Front\n",
      "             precision    recall  f1-score   support\n",
      "\n",
      "          0       0.00      0.00      0.00        22\n",
      "          1       0.00      0.00      0.00         0\n",
      "          3       0.00      0.00      0.00         0\n",
      "          5       0.00      0.00      0.00         0\n",
      "         10       0.00      0.00      0.00         0\n",
      "\n",
      "avg / total       0.00      0.00      0.00        22\n",
      "\n",
      "0\n",
      "6.18 Seconds to train random forest...\n",
      "Test Accuracy of Random Forest =  0.0\n"
     ]
    },
    {
     "name": "stderr",
     "output_type": "stream",
     "text": [
      "/home/rajat/.local/lib/python3.5/site-packages/sklearn/metrics/classification.py:1135: UndefinedMetricWarning: Precision and F-score are ill-defined and being set to 0.0 in labels with no predicted samples.\n",
      "  'precision', 'predicted', average, warn_for)\n",
      "/home/rajat/.local/lib/python3.5/site-packages/sklearn/metrics/classification.py:1137: UndefinedMetricWarning: Recall and F-score are ill-defined and being set to 0.0 in labels with no true samples.\n",
      "  'recall', 'true', average, warn_for)\n"
     ]
    },
    {
     "name": "stdout",
     "output_type": "stream",
     "text": [
      "sensitivity for  Kicking-Front\n",
      "             precision    recall  f1-score   support\n",
      "\n",
      "          0       0.00      0.00      0.00        23\n",
      "          9       0.00      0.00      0.00         0\n",
      "\n",
      "avg / total       0.00      0.00      0.00        23\n",
      "\n",
      "0\n",
      "6.11 Seconds to train random forest...\n",
      "Test Accuracy of Random Forest =  0.0\n"
     ]
    },
    {
     "name": "stderr",
     "output_type": "stream",
     "text": [
      "/home/rajat/.local/lib/python3.5/site-packages/sklearn/metrics/classification.py:1135: UndefinedMetricWarning: Precision and F-score are ill-defined and being set to 0.0 in labels with no predicted samples.\n",
      "  'precision', 'predicted', average, warn_for)\n",
      "/home/rajat/.local/lib/python3.5/site-packages/sklearn/metrics/classification.py:1137: UndefinedMetricWarning: Recall and F-score are ill-defined and being set to 0.0 in labels with no true samples.\n",
      "  'recall', 'true', average, warn_for)\n"
     ]
    },
    {
     "name": "stdout",
     "output_type": "stream",
     "text": [
      "sensitivity for  Kicking-Front\n",
      "             precision    recall  f1-score   support\n",
      "\n",
      "          0       0.00      0.00      0.00        23\n",
      "          4       0.00      0.00      0.00         0\n",
      "          9       0.00      0.00      0.00         0\n",
      "\n",
      "avg / total       0.00      0.00      0.00        23\n",
      "\n",
      "0\n",
      "6.16 Seconds to train random forest...\n",
      "Test Accuracy of Random Forest =  0.0\n"
     ]
    },
    {
     "name": "stderr",
     "output_type": "stream",
     "text": [
      "/home/rajat/.local/lib/python3.5/site-packages/sklearn/metrics/classification.py:1135: UndefinedMetricWarning: Precision and F-score are ill-defined and being set to 0.0 in labels with no predicted samples.\n",
      "  'precision', 'predicted', average, warn_for)\n",
      "/home/rajat/.local/lib/python3.5/site-packages/sklearn/metrics/classification.py:1137: UndefinedMetricWarning: Recall and F-score are ill-defined and being set to 0.0 in labels with no true samples.\n",
      "  'recall', 'true', average, warn_for)\n"
     ]
    },
    {
     "name": "stdout",
     "output_type": "stream",
     "text": [
      "sensitivity for  Kicking-Front\n",
      "             precision    recall  f1-score   support\n",
      "\n",
      "          0       0.00      0.00      0.00        23\n",
      "          9       0.00      0.00      0.00         0\n",
      "         10       0.00      0.00      0.00         0\n",
      "\n",
      "avg / total       0.00      0.00      0.00        23\n",
      "\n",
      "0\n",
      "6.21 Seconds to train random forest...\n",
      "Test Accuracy of Random Forest =  0.0\n"
     ]
    },
    {
     "name": "stderr",
     "output_type": "stream",
     "text": [
      "/home/rajat/.local/lib/python3.5/site-packages/sklearn/metrics/classification.py:1135: UndefinedMetricWarning: Precision and F-score are ill-defined and being set to 0.0 in labels with no predicted samples.\n",
      "  'precision', 'predicted', average, warn_for)\n",
      "/home/rajat/.local/lib/python3.5/site-packages/sklearn/metrics/classification.py:1137: UndefinedMetricWarning: Recall and F-score are ill-defined and being set to 0.0 in labels with no true samples.\n",
      "  'recall', 'true', average, warn_for)\n"
     ]
    },
    {
     "name": "stdout",
     "output_type": "stream",
     "text": [
      "sensitivity for  Kicking-Side\n",
      "             precision    recall  f1-score   support\n",
      "\n",
      "          3       0.00      0.00      0.00         0\n",
      "          6       0.00      0.00      0.00        23\n",
      "          9       0.00      0.00      0.00         0\n",
      "\n",
      "avg / total       0.00      0.00      0.00        23\n",
      "\n",
      "6\n",
      "6.24 Seconds to train random forest...\n",
      "Test Accuracy of Random Forest =  0.1739\n"
     ]
    },
    {
     "name": "stderr",
     "output_type": "stream",
     "text": [
      "/home/rajat/.local/lib/python3.5/site-packages/sklearn/metrics/classification.py:1137: UndefinedMetricWarning: Recall and F-score are ill-defined and being set to 0.0 in labels with no true samples.\n",
      "  'recall', 'true', average, warn_for)\n"
     ]
    },
    {
     "name": "stdout",
     "output_type": "stream",
     "text": [
      "sensitivity for  Kicking-Side\n",
      "             precision    recall  f1-score   support\n",
      "\n",
      "          1       0.00      0.00      0.00         0\n",
      "          5       0.00      0.00      0.00         0\n",
      "          6       1.00      0.17      0.30        23\n",
      "\n",
      "avg / total       1.00      0.17      0.30        23\n",
      "\n",
      "6\n",
      "6.12 Seconds to train random forest...\n",
      "Test Accuracy of Random Forest =  0.0\n"
     ]
    },
    {
     "name": "stderr",
     "output_type": "stream",
     "text": [
      "/home/rajat/.local/lib/python3.5/site-packages/sklearn/metrics/classification.py:1135: UndefinedMetricWarning: Precision and F-score are ill-defined and being set to 0.0 in labels with no predicted samples.\n",
      "  'precision', 'predicted', average, warn_for)\n",
      "/home/rajat/.local/lib/python3.5/site-packages/sklearn/metrics/classification.py:1137: UndefinedMetricWarning: Recall and F-score are ill-defined and being set to 0.0 in labels with no true samples.\n",
      "  'recall', 'true', average, warn_for)\n"
     ]
    },
    {
     "name": "stdout",
     "output_type": "stream",
     "text": [
      "sensitivity for  Kicking-Side\n",
      "             precision    recall  f1-score   support\n",
      "\n",
      "          3       0.00      0.00      0.00         0\n",
      "          6       0.00      0.00      0.00        23\n",
      "          9       0.00      0.00      0.00         0\n",
      "         10       0.00      0.00      0.00         0\n",
      "\n",
      "avg / total       0.00      0.00      0.00        23\n",
      "\n",
      "6\n",
      "6.12 Seconds to train random forest...\n",
      "Test Accuracy of Random Forest =  0.0\n"
     ]
    },
    {
     "name": "stderr",
     "output_type": "stream",
     "text": [
      "/home/rajat/.local/lib/python3.5/site-packages/sklearn/metrics/classification.py:1135: UndefinedMetricWarning: Precision and F-score are ill-defined and being set to 0.0 in labels with no predicted samples.\n",
      "  'precision', 'predicted', average, warn_for)\n",
      "/home/rajat/.local/lib/python3.5/site-packages/sklearn/metrics/classification.py:1137: UndefinedMetricWarning: Recall and F-score are ill-defined and being set to 0.0 in labels with no true samples.\n",
      "  'recall', 'true', average, warn_for)\n"
     ]
    },
    {
     "name": "stdout",
     "output_type": "stream",
     "text": [
      "sensitivity for  Kicking-Side\n",
      "             precision    recall  f1-score   support\n",
      "\n",
      "          1       0.00      0.00      0.00         0\n",
      "          3       0.00      0.00      0.00         0\n",
      "          5       0.00      0.00      0.00         0\n",
      "          6       0.00      0.00      0.00        23\n",
      "          9       0.00      0.00      0.00         0\n",
      "         10       0.00      0.00      0.00         0\n",
      "\n",
      "avg / total       0.00      0.00      0.00        23\n",
      "\n",
      "6\n",
      "6.25 Seconds to train random forest...\n",
      "Test Accuracy of Random Forest =  0.2174\n"
     ]
    },
    {
     "name": "stderr",
     "output_type": "stream",
     "text": [
      "/home/rajat/.local/lib/python3.5/site-packages/sklearn/metrics/classification.py:1137: UndefinedMetricWarning: Recall and F-score are ill-defined and being set to 0.0 in labels with no true samples.\n",
      "  'recall', 'true', average, warn_for)\n"
     ]
    },
    {
     "name": "stdout",
     "output_type": "stream",
     "text": [
      "sensitivity for  Kicking-Side\n",
      "             precision    recall  f1-score   support\n",
      "\n",
      "          1       0.00      0.00      0.00         0\n",
      "          6       1.00      0.22      0.36        23\n",
      "\n",
      "avg / total       1.00      0.22      0.36        23\n",
      "\n",
      "6\n",
      "6.18 Seconds to train random forest...\n",
      "Test Accuracy of Random Forest =  0.0\n"
     ]
    },
    {
     "name": "stderr",
     "output_type": "stream",
     "text": [
      "/home/rajat/.local/lib/python3.5/site-packages/sklearn/metrics/classification.py:1135: UndefinedMetricWarning: Precision and F-score are ill-defined and being set to 0.0 in labels with no predicted samples.\n",
      "  'precision', 'predicted', average, warn_for)\n",
      "/home/rajat/.local/lib/python3.5/site-packages/sklearn/metrics/classification.py:1137: UndefinedMetricWarning: Recall and F-score are ill-defined and being set to 0.0 in labels with no true samples.\n",
      "  'recall', 'true', average, warn_for)\n"
     ]
    },
    {
     "name": "stdout",
     "output_type": "stream",
     "text": [
      "sensitivity for  Kicking-Side\n",
      "             precision    recall  f1-score   support\n",
      "\n",
      "          3       0.00      0.00      0.00         0\n",
      "          6       0.00      0.00      0.00        23\n",
      "          9       0.00      0.00      0.00         0\n",
      "         10       0.00      0.00      0.00         0\n",
      "         11       0.00      0.00      0.00         0\n",
      "\n",
      "avg / total       0.00      0.00      0.00        23\n",
      "\n",
      "6\n",
      "6.19 Seconds to train random forest...\n",
      "Test Accuracy of Random Forest =  0.0\n"
     ]
    },
    {
     "name": "stderr",
     "output_type": "stream",
     "text": [
      "/home/rajat/.local/lib/python3.5/site-packages/sklearn/metrics/classification.py:1135: UndefinedMetricWarning: Precision and F-score are ill-defined and being set to 0.0 in labels with no predicted samples.\n",
      "  'precision', 'predicted', average, warn_for)\n",
      "/home/rajat/.local/lib/python3.5/site-packages/sklearn/metrics/classification.py:1137: UndefinedMetricWarning: Recall and F-score are ill-defined and being set to 0.0 in labels with no true samples.\n",
      "  'recall', 'true', average, warn_for)\n"
     ]
    },
    {
     "name": "stdout",
     "output_type": "stream",
     "text": [
      "sensitivity for  Kicking-Side\n",
      "             precision    recall  f1-score   support\n",
      "\n",
      "          1       0.00      0.00      0.00         0\n",
      "          6       0.00      0.00      0.00        23\n",
      "          9       0.00      0.00      0.00         0\n",
      "         10       0.00      0.00      0.00         0\n",
      "\n",
      "avg / total       0.00      0.00      0.00        23\n",
      "\n",
      "6\n",
      "6.16 Seconds to train random forest...\n",
      "Test Accuracy of Random Forest =  0.0\n"
     ]
    },
    {
     "name": "stderr",
     "output_type": "stream",
     "text": [
      "/home/rajat/.local/lib/python3.5/site-packages/sklearn/metrics/classification.py:1135: UndefinedMetricWarning: Precision and F-score are ill-defined and being set to 0.0 in labels with no predicted samples.\n",
      "  'precision', 'predicted', average, warn_for)\n",
      "/home/rajat/.local/lib/python3.5/site-packages/sklearn/metrics/classification.py:1137: UndefinedMetricWarning: Recall and F-score are ill-defined and being set to 0.0 in labels with no true samples.\n",
      "  'recall', 'true', average, warn_for)\n"
     ]
    },
    {
     "name": "stdout",
     "output_type": "stream",
     "text": [
      "sensitivity for  Kicking-Side\n",
      "             precision    recall  f1-score   support\n",
      "\n",
      "          3       0.00      0.00      0.00         0\n",
      "          6       0.00      0.00      0.00        23\n",
      "         10       0.00      0.00      0.00         0\n",
      "\n",
      "avg / total       0.00      0.00      0.00        23\n",
      "\n",
      "6\n",
      "6.08 Seconds to train random forest...\n",
      "Test Accuracy of Random Forest =  0.0\n"
     ]
    },
    {
     "name": "stderr",
     "output_type": "stream",
     "text": [
      "/home/rajat/.local/lib/python3.5/site-packages/sklearn/metrics/classification.py:1135: UndefinedMetricWarning: Precision and F-score are ill-defined and being set to 0.0 in labels with no predicted samples.\n",
      "  'precision', 'predicted', average, warn_for)\n",
      "/home/rajat/.local/lib/python3.5/site-packages/sklearn/metrics/classification.py:1137: UndefinedMetricWarning: Recall and F-score are ill-defined and being set to 0.0 in labels with no true samples.\n",
      "  'recall', 'true', average, warn_for)\n"
     ]
    },
    {
     "name": "stdout",
     "output_type": "stream",
     "text": [
      "sensitivity for  Kicking-Side\n",
      "             precision    recall  f1-score   support\n",
      "\n",
      "          3       0.00      0.00      0.00         0\n",
      "          6       0.00      0.00      0.00        23\n",
      "         10       0.00      0.00      0.00         0\n",
      "\n",
      "avg / total       0.00      0.00      0.00        23\n",
      "\n",
      "6\n",
      "6.17 Seconds to train random forest...\n",
      "Test Accuracy of Random Forest =  0.0\n"
     ]
    },
    {
     "name": "stderr",
     "output_type": "stream",
     "text": [
      "/home/rajat/.local/lib/python3.5/site-packages/sklearn/metrics/classification.py:1135: UndefinedMetricWarning: Precision and F-score are ill-defined and being set to 0.0 in labels with no predicted samples.\n",
      "  'precision', 'predicted', average, warn_for)\n",
      "/home/rajat/.local/lib/python3.5/site-packages/sklearn/metrics/classification.py:1137: UndefinedMetricWarning: Recall and F-score are ill-defined and being set to 0.0 in labels with no true samples.\n",
      "  'recall', 'true', average, warn_for)\n"
     ]
    },
    {
     "name": "stdout",
     "output_type": "stream",
     "text": [
      "sensitivity for  Kicking-Side\n",
      "             precision    recall  f1-score   support\n",
      "\n",
      "          0       0.00      0.00      0.00         0\n",
      "          3       0.00      0.00      0.00         0\n",
      "          4       0.00      0.00      0.00         0\n",
      "          6       0.00      0.00      0.00        23\n",
      "          9       0.00      0.00      0.00         0\n",
      "\n",
      "avg / total       0.00      0.00      0.00        23\n",
      "\n",
      "6\n",
      "6.11 Seconds to train random forest...\n",
      "Test Accuracy of Random Forest =  0.35\n"
     ]
    },
    {
     "name": "stderr",
     "output_type": "stream",
     "text": [
      "/home/rajat/.local/lib/python3.5/site-packages/sklearn/metrics/classification.py:1137: UndefinedMetricWarning: Recall and F-score are ill-defined and being set to 0.0 in labels with no true samples.\n",
      "  'recall', 'true', average, warn_for)\n"
     ]
    },
    {
     "name": "stdout",
     "output_type": "stream",
     "text": [
      "sensitivity for  Golf-Swing-Front\n",
      "             precision    recall  f1-score   support\n",
      "\n",
      "          3       0.00      0.00      0.00         0\n",
      "          4       1.00      0.35      0.52        60\n",
      "          9       0.00      0.00      0.00         0\n",
      "\n",
      "avg / total       1.00      0.35      0.52        60\n",
      "\n",
      "4\n",
      "6.09 Seconds to train random forest...\n",
      "Test Accuracy of Random Forest =  0.6833\n"
     ]
    },
    {
     "name": "stderr",
     "output_type": "stream",
     "text": [
      "/home/rajat/.local/lib/python3.5/site-packages/sklearn/metrics/classification.py:1137: UndefinedMetricWarning: Recall and F-score are ill-defined and being set to 0.0 in labels with no true samples.\n",
      "  'recall', 'true', average, warn_for)\n"
     ]
    },
    {
     "name": "stdout",
     "output_type": "stream",
     "text": [
      "sensitivity for  Golf-Swing-Front\n",
      "             precision    recall  f1-score   support\n",
      "\n",
      "          1       0.00      0.00      0.00         0\n",
      "          3       0.00      0.00      0.00         0\n",
      "          4       1.00      0.68      0.81        60\n",
      "          8       0.00      0.00      0.00         0\n",
      "         10       0.00      0.00      0.00         0\n",
      "         11       0.00      0.00      0.00         0\n",
      "         12       0.00      0.00      0.00         0\n",
      "\n",
      "avg / total       1.00      0.68      0.81        60\n",
      "\n",
      "4\n",
      "6.13 Seconds to train random forest...\n",
      "Test Accuracy of Random Forest =  0.25\n",
      "sensitivity for "
     ]
    },
    {
     "name": "stderr",
     "output_type": "stream",
     "text": [
      "/home/rajat/.local/lib/python3.5/site-packages/sklearn/metrics/classification.py:1137: UndefinedMetricWarning: Recall and F-score are ill-defined and being set to 0.0 in labels with no true samples.\n",
      "  'recall', 'true', average, warn_for)\n"
     ]
    },
    {
     "name": "stdout",
     "output_type": "stream",
     "text": [
      " Golf-Swing-Front\n",
      "             precision    recall  f1-score   support\n",
      "\n",
      "          0       0.00      0.00      0.00         0\n",
      "          3       0.00      0.00      0.00         0\n",
      "          4       1.00      0.25      0.40        60\n",
      "          9       0.00      0.00      0.00         0\n",
      "         12       0.00      0.00      0.00         0\n",
      "\n",
      "avg / total       1.00      0.25      0.40        60\n",
      "\n",
      "4\n",
      "6.1 Seconds to train random forest...\n",
      "Test Accuracy of Random Forest =  0.0667\n"
     ]
    },
    {
     "name": "stderr",
     "output_type": "stream",
     "text": [
      "/home/rajat/.local/lib/python3.5/site-packages/sklearn/metrics/classification.py:1137: UndefinedMetricWarning: Recall and F-score are ill-defined and being set to 0.0 in labels with no true samples.\n",
      "  'recall', 'true', average, warn_for)\n"
     ]
    },
    {
     "name": "stdout",
     "output_type": "stream",
     "text": [
      "sensitivity for  Golf-Swing-Front\n",
      "             precision    recall  f1-score   support\n",
      "\n",
      "          4       1.00      0.07      0.12        60\n",
      "          9       0.00      0.00      0.00         0\n",
      "         10       0.00      0.00      0.00         0\n",
      "\n",
      "avg / total       1.00      0.07      0.12        60\n",
      "\n",
      "4\n",
      "6.12 Seconds to train random forest...\n",
      "Test Accuracy of Random Forest =  1.0\n",
      "sensitivity for  Golf-Swing-Front\n",
      "             precision    recall  f1-score   support\n",
      "\n",
      "          4       1.00      1.00      1.00        60\n",
      "\n",
      "avg / total       1.00      1.00      1.00        60\n",
      "\n",
      "4\n",
      "6.09 Seconds to train random forest...\n",
      "Test Accuracy of Random Forest =  0.05\n"
     ]
    },
    {
     "name": "stderr",
     "output_type": "stream",
     "text": [
      "/home/rajat/.local/lib/python3.5/site-packages/sklearn/metrics/classification.py:1137: UndefinedMetricWarning: Recall and F-score are ill-defined and being set to 0.0 in labels with no true samples.\n",
      "  'recall', 'true', average, warn_for)\n"
     ]
    },
    {
     "name": "stdout",
     "output_type": "stream",
     "text": [
      "sensitivity for  Golf-Swing-Front\n",
      "             precision    recall  f1-score   support\n",
      "\n",
      "          2       0.00      0.00      0.00         0\n",
      "          3       0.00      0.00      0.00         0\n",
      "          4       1.00      0.05      0.10        60\n",
      "          9       0.00      0.00      0.00         0\n",
      "         11       0.00      0.00      0.00         0\n",
      "\n",
      "avg / total       1.00      0.05      0.10        60\n",
      "\n",
      "4\n",
      "6.1 Seconds to train random forest...\n",
      "Test Accuracy of Random Forest =  0.0833\n"
     ]
    },
    {
     "name": "stderr",
     "output_type": "stream",
     "text": [
      "/home/rajat/.local/lib/python3.5/site-packages/sklearn/metrics/classification.py:1137: UndefinedMetricWarning: Recall and F-score are ill-defined and being set to 0.0 in labels with no true samples.\n",
      "  'recall', 'true', average, warn_for)\n"
     ]
    },
    {
     "name": "stdout",
     "output_type": "stream",
     "text": [
      "sensitivity for  Golf-Swing-Front\n",
      "             precision    recall  f1-score   support\n",
      "\n",
      "          1       0.00      0.00      0.00         0\n",
      "          3       0.00      0.00      0.00         0\n",
      "          4       1.00      0.08      0.15        60\n",
      "          5       0.00      0.00      0.00         0\n",
      "          9       0.00      0.00      0.00         0\n",
      "\n",
      "avg / total       1.00      0.08      0.15        60\n",
      "\n",
      "4\n",
      "6.1 Seconds to train random forest...\n",
      "Test Accuracy of Random Forest =  0.1333\n",
      "sensitivity for  Golf-Swing-Front\n",
      "             precision    recall  f1-score   support\n",
      "\n",
      "          4       1.00      0.13      0.24        60\n",
      "          9       0.00      0.00      0.00         0\n",
      "         12       0.00      0.00      0.00         0\n",
      "\n",
      "avg / total       1.00      0.13      0.24        60\n",
      "\n",
      "4\n",
      "Accuracy of label Kicking-Front is \n",
      "0.0\n",
      "Accuracy of label Swing-SideAngle is \n",
      "0.807176923077\n",
      "Accuracy of label Golf-Swing-Back is \n",
      "0.31666\n",
      "Accuracy of label Run-Side is \n",
      "0.3006\n",
      "Accuracy of label Golf-Swing-Front is \n",
      "0.327075\n",
      "Accuracy of label Swing-Bench is \n",
      "0.736\n",
      "Accuracy of label Kicking-Side is \n",
      "0.03913\n",
      "Accuracy of label Diving-Side is \n",
      "0.724671428571\n",
      "Accuracy of label Walk-Front is \n",
      "0.439272727273\n",
      "Accuracy of label Riding-Horse is \n",
      "0.402766666667\n",
      "Accuracy of label SkateBoarding-Front is \n",
      "0.554766666667\n",
      "Accuracy of label Golf-Swing-Side is \n",
      "0.27\n"
     ]
    },
    {
     "name": "stderr",
     "output_type": "stream",
     "text": [
      "/home/rajat/.local/lib/python3.5/site-packages/sklearn/metrics/classification.py:1137: UndefinedMetricWarning: Recall and F-score are ill-defined and being set to 0.0 in labels with no true samples.\n",
      "  'recall', 'true', average, warn_for)\n"
     ]
    }
   ],
   "source": [
    "leave_one_out(\"random_forest\")\n",
    "\n",
    "\n",
    "\n"
   ]
  },
  {
   "cell_type": "code",
   "execution_count": null,
   "metadata": {
    "collapsed": true
   },
   "outputs": [],
   "source": []
  }
 ],
 "metadata": {
  "anaconda-cloud": {},
  "kernelspec": {
   "display_name": "Python [conda env:carnd-term1]",
   "language": "python",
   "name": "conda-env-carnd-term1-py"
  },
  "language_info": {
   "codemirror_mode": {
    "name": "ipython",
    "version": 3
   },
   "file_extension": ".py",
   "mimetype": "text/x-python",
   "name": "python",
   "nbconvert_exporter": "python",
   "pygments_lexer": "ipython3",
   "version": "3.5.2"
  }
 },
 "nbformat": 4,
 "nbformat_minor": 1
}
